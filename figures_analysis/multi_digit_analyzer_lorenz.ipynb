{
 "cells": [
  {
   "cell_type": "code",
   "execution_count": 1,
   "metadata": {},
   "outputs": [
    {
     "name": "stdout",
     "output_type": "stream",
     "text": [
      "['/home/admin-quad/Toni/llmICL/figures_analysis', '/home/admin-quad/anaconda3/envs/LLM/lib/python311.zip', '/home/admin-quad/anaconda3/envs/LLM/lib/python3.11', '/home/admin-quad/anaconda3/envs/LLM/lib/python3.11/lib-dynload', '', '/home/admin-quad/anaconda3/envs/LLM/lib/python3.11/site-packages', '/home/admin-quad/LLM/llama', '/home/admin-quad/Toni/llmICL', '../models']\n"
     ]
    }
   ],
   "source": [
    "import sys\n",
    "import os\n",
    "from pathlib import Path\n",
    "\n",
    "import sys\n",
    "import os\n",
    "from pathlib import Path\n",
    "parent_dir = os.path.dirname(os.getcwd())\n",
    "sys.path.append(parent_dir)\n",
    "sys.path.append(\"../models\")\n",
    "processed_series_path = Path(parent_dir) / 'processed_series'\n",
    "import copy\n",
    "from scipy.special import erf\n",
    "from scipy.stats import norm\n",
    "import numpy as np\n",
    "import matplotlib.pyplot as plt\n",
    "import pickle\n",
    "\n",
    "print(sys.path)\n",
    "from ICL import MultiResolutionPDF\n",
    "\n"
   ]
  },
  {
   "cell_type": "code",
   "execution_count": 2,
   "metadata": {},
   "outputs": [
    {
     "name": "stdout",
     "output_type": "stream",
     "text": [
      "[0]: brownian_motion_0.pkl\n",
      "[1]: brownian_motion_1.pkl\n",
      "[2]: brownian_motion_10.pkl\n",
      "[3]: brownian_motion_11.pkl\n",
      "[4]: brownian_motion_12.pkl\n",
      "[5]: brownian_motion_13.pkl\n",
      "[6]: brownian_motion_14.pkl\n",
      "[7]: brownian_motion_15.pkl\n",
      "[8]: brownian_motion_16.pkl\n",
      "[9]: brownian_motion_17.pkl\n",
      "[10]: brownian_motion_18.pkl\n",
      "[11]: brownian_motion_19.pkl\n",
      "[12]: brownian_motion_2.pkl\n",
      "[13]: brownian_motion_3.pkl\n",
      "[14]: brownian_motion_4.pkl\n",
      "[15]: brownian_motion_5.pkl\n",
      "[16]: brownian_motion_6.pkl\n",
      "[17]: brownian_motion_7.pkl\n",
      "[18]: brownian_motion_8.pkl\n",
      "[19]: brownian_motion_9.pkl\n",
      "[20]: correlated_gaussian_0.pkl\n",
      "[21]: correlated_gaussian_1.pkl\n",
      "[22]: correlated_gaussian_2.pkl\n",
      "[23]: correlated_gaussian_3.pkl\n",
      "[24]: correlated_gaussian_4.pkl\n",
      "[25]: correlated_gaussian_5.pkl\n",
      "[26]: correlated_gaussian_6.pkl\n",
      "[27]: correlated_gaussian_7.pkl\n",
      "[28]: correlated_gaussian_8.pkl\n",
      "[29]: correlated_gaussian_9.pkl\n",
      "[30]: geometric_brownian_motion_0.pkl\n",
      "[31]: geometric_brownian_motion_1.pkl\n",
      "[32]: geometric_brownian_motion_10.pkl\n",
      "[33]: geometric_brownian_motion_11.pkl\n",
      "[34]: geometric_brownian_motion_12.pkl\n",
      "[35]: geometric_brownian_motion_13.pkl\n",
      "[36]: geometric_brownian_motion_14.pkl\n",
      "[37]: geometric_brownian_motion_15.pkl\n",
      "[38]: geometric_brownian_motion_16.pkl\n",
      "[39]: geometric_brownian_motion_17.pkl\n",
      "[40]: geometric_brownian_motion_18.pkl\n",
      "[41]: geometric_brownian_motion_19.pkl\n",
      "[42]: geometric_brownian_motion_2.pkl\n",
      "[43]: geometric_brownian_motion_20.pkl\n",
      "[44]: geometric_brownian_motion_21.pkl\n",
      "[45]: geometric_brownian_motion_3.pkl\n",
      "[46]: geometric_brownian_motion_4.pkl\n",
      "[47]: geometric_brownian_motion_5.pkl\n",
      "[48]: geometric_brownian_motion_6.pkl\n",
      "[49]: geometric_brownian_motion_7.pkl\n",
      "[50]: geometric_brownian_motion_8.pkl\n",
      "[51]: geometric_brownian_motion_9.pkl\n",
      "[52]: logistic_map_0.pkl\n",
      "[53]: logistic_map_1.pkl\n",
      "[54]: logistic_map_10.pkl\n",
      "[55]: logistic_map_11.pkl\n",
      "[56]: logistic_map_12.pkl\n",
      "[57]: logistic_map_13.pkl\n",
      "[58]: logistic_map_14.pkl\n",
      "[59]: logistic_map_2.pkl\n",
      "[60]: logistic_map_3.pkl\n",
      "[61]: logistic_map_4.pkl\n",
      "[62]: logistic_map_5.pkl\n",
      "[63]: logistic_map_6.pkl\n",
      "[64]: logistic_map_7.pkl\n",
      "[65]: logistic_map_8.pkl\n",
      "[66]: logistic_map_9.pkl\n",
      "[67]: lorenz_system_0.pkl\n",
      "[68]: lorenz_system_1.pkl\n",
      "[69]: lorenz_system_10.pkl\n",
      "[70]: lorenz_system_11.pkl\n",
      "[71]: lorenz_system_12.pkl\n",
      "[72]: lorenz_system_13.pkl\n",
      "[73]: lorenz_system_14.pkl\n",
      "[74]: lorenz_system_15.pkl\n",
      "[75]: lorenz_system_16.pkl\n",
      "[76]: lorenz_system_17.pkl\n",
      "[77]: lorenz_system_18.pkl\n",
      "[78]: lorenz_system_19.pkl\n",
      "[79]: lorenz_system_2.pkl\n",
      "[80]: lorenz_system_20.pkl\n",
      "[81]: lorenz_system_21.pkl\n",
      "[82]: lorenz_system_22.pkl\n",
      "[83]: lorenz_system_23.pkl\n",
      "[84]: lorenz_system_24.pkl\n",
      "[85]: lorenz_system_25.pkl\n",
      "[86]: lorenz_system_26.pkl\n",
      "[87]: lorenz_system_27.pkl\n",
      "[88]: lorenz_system_28.pkl\n",
      "[89]: lorenz_system_29.pkl\n",
      "[90]: lorenz_system_3.pkl\n",
      "[91]: lorenz_system_4.pkl\n",
      "[92]: lorenz_system_5.pkl\n",
      "[93]: lorenz_system_6.pkl\n",
      "[94]: lorenz_system_7.pkl\n",
      "[95]: lorenz_system_8.pkl\n",
      "[96]: lorenz_system_9.pkl\n",
      "[97]: markov_chain_0.pkl\n",
      "[98]: markov_chain_1.pkl\n",
      "[99]: markov_chain_10.pkl\n",
      "[100]: markov_chain_11.pkl\n",
      "[101]: markov_chain_12.pkl\n",
      "[102]: markov_chain_13.pkl\n",
      "[103]: markov_chain_14.pkl\n",
      "[104]: markov_chain_15.pkl\n",
      "[105]: markov_chain_16.pkl\n",
      "[106]: markov_chain_17.pkl\n",
      "[107]: markov_chain_18.pkl\n",
      "[108]: markov_chain_19.pkl\n",
      "[109]: markov_chain_2.pkl\n",
      "[110]: markov_chain_20.pkl\n",
      "[111]: markov_chain_21.pkl\n",
      "[112]: markov_chain_22.pkl\n",
      "[113]: markov_chain_23.pkl\n",
      "[114]: markov_chain_24.pkl\n",
      "[115]: markov_chain_25.pkl\n",
      "[116]: markov_chain_26.pkl\n",
      "[117]: markov_chain_27.pkl\n",
      "[118]: markov_chain_28.pkl\n",
      "[119]: markov_chain_29.pkl\n",
      "[120]: markov_chain_3.pkl\n",
      "[121]: markov_chain_30.pkl\n",
      "[122]: markov_chain_31.pkl\n",
      "[123]: markov_chain_32.pkl\n",
      "[124]: markov_chain_33.pkl\n",
      "[125]: markov_chain_34.pkl\n",
      "[126]: markov_chain_35.pkl\n",
      "[127]: markov_chain_4.pkl\n",
      "[128]: markov_chain_5.pkl\n",
      "[129]: markov_chain_6.pkl\n",
      "[130]: markov_chain_7.pkl\n",
      "[131]: markov_chain_8.pkl\n",
      "[132]: markov_chain_9.pkl\n",
      "[133]: noisy_logistic_map_0.pkl\n",
      "[134]: noisy_logistic_map_1.pkl\n",
      "[135]: noisy_logistic_map_10.pkl\n",
      "[136]: noisy_logistic_map_11.pkl\n",
      "[137]: noisy_logistic_map_12.pkl\n",
      "[138]: noisy_logistic_map_13.pkl\n",
      "[139]: noisy_logistic_map_14.pkl\n",
      "[140]: noisy_logistic_map_15.pkl\n",
      "[141]: noisy_logistic_map_16.pkl\n",
      "[142]: noisy_logistic_map_17.pkl\n",
      "[143]: noisy_logistic_map_18.pkl\n",
      "[144]: noisy_logistic_map_19.pkl\n",
      "[145]: noisy_logistic_map_2.pkl\n",
      "[146]: noisy_logistic_map_20.pkl\n",
      "[147]: noisy_logistic_map_21.pkl\n",
      "[148]: noisy_logistic_map_22.pkl\n",
      "[149]: noisy_logistic_map_23.pkl\n",
      "[150]: noisy_logistic_map_24.pkl\n",
      "[151]: noisy_logistic_map_25.pkl\n",
      "[152]: noisy_logistic_map_26.pkl\n",
      "[153]: noisy_logistic_map_27.pkl\n",
      "[154]: noisy_logistic_map_28.pkl\n",
      "[155]: noisy_logistic_map_29.pkl\n",
      "[156]: noisy_logistic_map_3.pkl\n",
      "[157]: noisy_logistic_map_30.pkl\n",
      "[158]: noisy_logistic_map_31.pkl\n",
      "[159]: noisy_logistic_map_32.pkl\n",
      "[160]: noisy_logistic_map_33.pkl\n",
      "[161]: noisy_logistic_map_34.pkl\n",
      "[162]: noisy_logistic_map_35.pkl\n",
      "[163]: noisy_logistic_map_36.pkl\n",
      "[164]: noisy_logistic_map_37.pkl\n",
      "[165]: noisy_logistic_map_38.pkl\n",
      "[166]: noisy_logistic_map_39.pkl\n",
      "[167]: noisy_logistic_map_4.pkl\n",
      "[168]: noisy_logistic_map_40.pkl\n",
      "[169]: noisy_logistic_map_41.pkl\n",
      "[170]: noisy_logistic_map_42.pkl\n",
      "[171]: noisy_logistic_map_43.pkl\n",
      "[172]: noisy_logistic_map_44.pkl\n",
      "[173]: noisy_logistic_map_45.pkl\n",
      "[174]: noisy_logistic_map_46.pkl\n",
      "[175]: noisy_logistic_map_47.pkl\n",
      "[176]: noisy_logistic_map_48.pkl\n",
      "[177]: noisy_logistic_map_49.pkl\n",
      "[178]: noisy_logistic_map_5.pkl\n",
      "[179]: noisy_logistic_map_50.pkl\n",
      "[180]: noisy_logistic_map_51.pkl\n",
      "[181]: noisy_logistic_map_52.pkl\n",
      "[182]: noisy_logistic_map_53.pkl\n",
      "[183]: noisy_logistic_map_54.pkl\n",
      "[184]: noisy_logistic_map_55.pkl\n",
      "[185]: noisy_logistic_map_56.pkl\n",
      "[186]: noisy_logistic_map_57.pkl\n",
      "[187]: noisy_logistic_map_58.pkl\n",
      "[188]: noisy_logistic_map_59.pkl\n",
      "[189]: noisy_logistic_map_6.pkl\n",
      "[190]: noisy_logistic_map_60.pkl\n",
      "[191]: noisy_logistic_map_61.pkl\n",
      "[192]: noisy_logistic_map_62.pkl\n",
      "[193]: noisy_logistic_map_63.pkl\n",
      "[194]: noisy_logistic_map_64.pkl\n",
      "[195]: noisy_logistic_map_65.pkl\n",
      "[196]: noisy_logistic_map_66.pkl\n",
      "[197]: noisy_logistic_map_67.pkl\n",
      "[198]: noisy_logistic_map_68.pkl\n",
      "[199]: noisy_logistic_map_69.pkl\n",
      "[200]: noisy_logistic_map_7.pkl\n",
      "[201]: noisy_logistic_map_70.pkl\n",
      "[202]: noisy_logistic_map_71.pkl\n",
      "[203]: noisy_logistic_map_72.pkl\n",
      "[204]: noisy_logistic_map_8.pkl\n",
      "[205]: noisy_logistic_map_9.pkl\n",
      "[206]: uncorrelated_gaussian_0.pkl\n",
      "[207]: uncorrelated_gaussian_1.pkl\n",
      "[208]: uncorrelated_gaussian_10.pkl\n",
      "[209]: uncorrelated_gaussian_11.pkl\n",
      "[210]: uncorrelated_gaussian_2.pkl\n",
      "[211]: uncorrelated_gaussian_3.pkl\n",
      "[212]: uncorrelated_gaussian_4.pkl\n",
      "[213]: uncorrelated_gaussian_5.pkl\n",
      "[214]: uncorrelated_gaussian_6.pkl\n",
      "[215]: uncorrelated_gaussian_7.pkl\n",
      "[216]: uncorrelated_gaussian_8.pkl\n",
      "[217]: uncorrelated_gaussian_9.pkl\n",
      "[218]: uncorrelated_uniform_0.pkl\n",
      "[219]: uncorrelated_uniform_1.pkl\n",
      "[220]: uncorrelated_uniform_2.pkl\n",
      "[221]: uncorrelated_uniform_3.pkl\n"
     ]
    }
   ],
   "source": [
    "all_files = sorted([path for path in processed_series_path.iterdir()], key=lambda x: x.name)\n",
    "for index, file in enumerate(all_files):\n",
    "    print(f\"[{index}]: {file.name}\")"
   ]
  },
  {
   "cell_type": "code",
   "execution_count": 3,
   "metadata": {},
   "outputs": [
    {
     "name": "stdout",
     "output_type": "stream",
     "text": [
      "seed: 0\n",
      "mode: all\n",
      "refine_depth: 1\n",
      "prec: 2\n",
      "name: lorenz_system_10\n"
     ]
    }
   ],
   "source": [
    "alpha = 1\n",
    "\n",
    "file = all_files[69]\n",
    "processed_dict = pickle.load(file.open('rb'))\n",
    "full_series = processed_dict['full_series']\n",
    "rescaled_true_mean_arr = processed_dict['rescaled_true_mean_arr']\n",
    "rescaled_true_sigma_arr = processed_dict['rescaled_true_sigma_arr']\n",
    "llama_size = processed_dict['llama_size']\n",
    "mode = processed_dict['mode']\n",
    "refine_depth = processed_dict['refine_depth']\n",
    "random_seed = processed_dict['random_seed']\n",
    "PDF_list = processed_dict['PDF_list']\n",
    "time_series = processed_dict['time_series']\n",
    "prec = processed_dict['prec']\n",
    "print(f\"seed: {processed_dict['random_seed']}\")\n",
    "print(f\"mode: {mode}\")\n",
    "print(f\"refine_depth: {refine_depth}\")\n",
    "print(f\"prec: {prec}\")\n",
    "print(f\"name: {file.stem}\")"
   ]
  },
  {
   "cell_type": "code",
   "execution_count": 4,
   "metadata": {},
   "outputs": [],
   "source": [
    "### tune temperature \n",
    "\n",
    "for PDF in PDF_list:\n",
    "    if alpha != 1:\n",
    "        PDF.rescale_temperature(alpha)"
   ]
  },
  {
   "cell_type": "code",
   "execution_count": 5,
   "metadata": {},
   "outputs": [
    {
     "name": "stderr",
     "output_type": "stream",
     "text": [
      "/tmp/ipykernel_234508/2510280494.py:9: RuntimeWarning: divide by zero encountered in divide\n",
      "  return 0.5 * (1 + erf((x - true_mean) / (true_sigma * np.sqrt(2))))\n",
      "/home/admin-quad/Toni/llmICL/figures_analysis/../models/ICL.py:417: RuntimeWarning: divide by zero encountered in log\n",
      "  log_ratio = np.log(self.bin_height_arr) - np.log(Multi_PDF.bin_height_arr)\n",
      "/home/admin-quad/Toni/llmICL/figures_analysis/../models/ICL.py:418: RuntimeWarning: invalid value encountered in multiply\n",
      "  weighted_log_ratio = log_ratio * self.bin_height_arr * self.bin_width_arr\n",
      "/tmp/ipykernel_234508/2510280494.py:9: RuntimeWarning: invalid value encountered in divide\n",
      "  return 0.5 * (1 + erf((x - true_mean) / (true_sigma * np.sqrt(2))))\n"
     ]
    }
   ],
   "source": [
    "### Calculate true discretized distribution: PDF_list_true\n",
    "### Compute discretized BT and KL loss\n",
    "\n",
    "PDF_true_list = copy.deepcopy(PDF_list)\n",
    "discrete_BT_loss = []\n",
    "discrete_KL_loss = []\n",
    "for PDF, PDF_true, true_mean, true_sigma in zip(PDF_list, PDF_true_list, rescaled_true_mean_arr, rescaled_true_sigma_arr):\n",
    "    def cdf(x):\n",
    "        return 0.5 * (1 + erf((x - true_mean) / (true_sigma * np.sqrt(2))))\n",
    "    \n",
    "    PDF_true.discretize(cdf, mode = \"cdf\")\n",
    "    PDF_true.compute_stats()\n",
    "    discrete_BT_loss += [PDF_true.BT_dist(PDF)]    \n",
    "    discrete_KL_loss += [PDF_true.KL_div(PDF)]\n",
    "\n",
    "discrete_BT_loss = np.array(discrete_BT_loss)\n",
    "discrete_KL_loss = np.array(discrete_KL_loss)\n",
    "\n",
    "### Extract statistics from MultiResolutionPDF\n",
    "\n",
    "mean_arr = []\n",
    "mode_arr = []\n",
    "sigma_arr = []\n",
    "moment_3_arr = []\n",
    "moment_4_arr = []\n",
    "\n",
    "num_commas = full_series.count(',')\n",
    "for comma_idx in range(num_commas):\n",
    "    PDF_list[comma_idx].compute_stats()\n",
    "    mean, mode, sigma = PDF_list[comma_idx].mean, PDF_list[comma_idx].mode, PDF_list[comma_idx].sigma \n",
    "    moment_3 = PDF_list[comma_idx].compute_moment(3)\n",
    "    moment_4 = PDF_list[comma_idx].compute_moment(4)\n",
    "    \n",
    "    mean_arr.append(mean)\n",
    "    mode_arr.append(mode)\n",
    "    sigma_arr.append(sigma)\n",
    "    moment_3_arr.append(moment_3)\n",
    "    moment_4_arr.append(moment_4)\n",
    "\n",
    "# Convert lists to numpy arrays\n",
    "mean_arr = np.array(mean_arr)\n",
    "mode_arr = np.array(mode_arr)\n",
    "sigma_arr = np.array(sigma_arr)\n",
    "moment_3_arr = np.array(moment_3_arr)\n",
    "moment_4_arr = np.array(moment_4_arr)\n",
    "\n",
    "error_mean = np.abs(rescaled_true_mean_arr - mean_arr)\n",
    "error_mode = np.abs(rescaled_true_mean_arr - mode_arr)"
   ]
  },
  {
   "cell_type": "code",
   "execution_count": 6,
   "metadata": {},
   "outputs": [
    {
     "name": "stderr",
     "output_type": "stream",
     "text": [
      "/tmp/ipykernel_234508/4005133726.py:18: RuntimeWarning: divide by zero encountered in log\n",
      "  BT_loss = error_mean / (rescaled_true_sigma_arr**2 + sigma_arr**2) / 2 + np.log(sigma_arr + rescaled_true_sigma_arr) - np.log(sigma_arr * rescaled_true_sigma_arr)/2 - np.log(2)\n",
      "/tmp/ipykernel_234508/4005133726.py:20: RuntimeWarning: divide by zero encountered in divide\n",
      "  KL_loss = np.log(sigma_arr/rescaled_true_sigma_arr) + (rescaled_true_sigma_arr**2 + error_mode)/(2*sigma_arr**2) - 1/2\n"
     ]
    },
    {
     "data": {
      "image/png": "[encoded data removed]",
      "text/plain": [
       "<Figure size 800x300 with 1 Axes>"
      ]
     },
     "metadata": {},
     "output_type": "display_data"
    }
   ],
   "source": [
    "window_size = 20\n",
    "xlog = 0\n",
    "ylog = 0\n",
    "\n",
    "scale_mean_mode_error = 0\n",
    "\n",
    "top_hat_kernel = np.ones(window_size) / window_size\n",
    "gaussian_kernel = norm.pdf(np.arange(window_size), loc=window_size // 2, scale=window_size / 6)\n",
    "# kernel = gaussian_kernel\n",
    "kernel = top_hat_kernel\n",
    "\n",
    "\n",
    "# Errors from NLL\n",
    "# averaged_nll_digit = np.convolve(NLL_digit, kernel, mode='valid')\n",
    "\n",
    "averaged_discrete_BT_loss = np.convolve(discrete_BT_loss, kernel, mode='valid')\n",
    "# Errors from Bhattacharya distance and KL divergence\n",
    "BT_loss = error_mean / (rescaled_true_sigma_arr**2 + sigma_arr**2) / 2 + np.log(sigma_arr + rescaled_true_sigma_arr) - np.log(sigma_arr * rescaled_true_sigma_arr)/2 - np.log(2)\n",
    "averaged_BT_loss = np.convolve(BT_loss, kernel, mode='valid')\n",
    "KL_loss = np.log(sigma_arr/rescaled_true_sigma_arr) + (rescaled_true_sigma_arr**2 + error_mode)/(2*sigma_arr**2) - 1/2\n",
    "averaged_KL_loss = np.convolve(KL_loss, kernel, mode='valid')\n",
    "\n",
    "fig, ax1 = plt.subplots(figsize=(8, 3))\n",
    "\n",
    "ax1.plot(np.arange(window_size//2, len(discrete_BT_loss) - window_size//2 + 1), averaged_discrete_BT_loss, linewidth=2)\n",
    "\n",
    "ax1.set_ylabel(\"Bhattacharyya distance\")\n",
    "\n",
    "\n",
    "# ax2.set_ylim(0,0.5)\n",
    "if xlog:\n",
    "    ax1.set_xscale('log')\n",
    "\n",
    "    \n",
    "if ylog:\n",
    "    ax1.set_yscale('log')\n",
    "\n",
    "    \n",
    "# plt.xlim(0,150)\n",
    "    \n",
    "plt.xlabel(\"context length\")\n",
    "plt.title(f\"{file.stem}\")\n",
    "plt.show()\n",
    "\n"
   ]
  },
  {
   "cell_type": "code",
   "execution_count": 7,
   "metadata": {},
   "outputs": [
    {
     "data": {
      "image/png": "[encoded data removed]",
      "text/plain": [
       "<Figure size 400x400 with 1 Axes>"
      ]
     },
     "metadata": {},
     "output_type": "display_data"
    },
    {
     "data": {
      "image/png": "[encoded data removed]",
      "text/plain": [
       "<Figure size 1400x600 with 1 Axes>"
      ]
     },
     "metadata": {},
     "output_type": "display_data"
    }
   ],
   "source": [
    "# plt.figure(figsize=(3, 6))\n",
    "plt.figure(figsize=(4, 4))\n",
    "plt.scatter(rescaled_true_sigma_arr[500:],sigma_arr[500:], marker='.', lw=0, label = 'predicted sigma')\n",
    "max_val = np.max(rescaled_true_sigma_arr[500:])\n",
    "min_val = 0\n",
    "\n",
    "plt.figure(figsize=(7, 3), dpi = 200)\n",
    "plt.scatter(time_series[500:-1], sigma_arr[501:], marker = '.', lw=0, label = r'predicted std')\n",
    "plt.plot([0, 0.5, 1],[rescaled_true_sigma_arr.max(), 0, rescaled_true_sigma_arr.max()], color='red', label = r'true std', linestyle='-', alpha = 0.6)\n",
    "plt.xlabel(r'$x_t$')\n",
    "plt.xlim(0,1)\n",
    "plt.ylabel(r'noisy logistic map std')\n",
    "plt.legend()\n",
    "plt.tight_layout()\n",
    "plt.savefig(f'../figures/noisy_logistic_sigma_temp{alpha}.png')\n",
    "\n"
   ]
  },
  {
   "cell_type": "code",
   "execution_count": 8,
   "metadata": {},
   "outputs": [
    {
     "data": {
      "application/vnd.jupyter.widget-view+json": {
       "model_id": "9caa5fe2d77049ab8472d467a6d772b1",
       "version_major": 2,
       "version_minor": 0
      },
      "text/plain": [
       "interactive(children=(IntSlider(value=1, description='comma_idx', max=999, min=1), Output()), _dom_classes=('w…"
      ]
     },
     "metadata": {},
     "output_type": "display_data"
    },
    {
     "data": {
      "text/plain": [
       "<function __main__.digiprob_plotter(comma_idx=1)>"
      ]
     },
     "execution_count": 8,
     "metadata": {},
     "output_type": "execute_result"
    }
   ],
   "source": [
    "from ipywidgets import interact\n",
    "import matplotlib.pyplot as plt\n",
    "from scipy.stats import norm\n",
    "\n",
    "### Load multiple digits to MultiResolutionPDF\n",
    "comma_locations = np.sort(np.where(np.array(list(full_series)) == ',')[0])\n",
    "\n",
    "\n",
    "plot1_log_scale = 0\n",
    "log_scale = 0\n",
    "discretized_truth = False\n",
    "\n",
    "### Plot distribution before ith comma\n",
    "def digiprob_plotter(comma_idx=1):\n",
    "    if comma_idx == 0:\n",
    "        start_idx = 0\n",
    "    else:\n",
    "        start_idx = comma_locations[comma_idx-1]+1\n",
    "    if discretized_truth:\n",
    "        fig, axs = plt.subplots(3, 1, figsize=(18, 6))\n",
    "    else:\n",
    "        fig, axs = plt.subplots(2, 1, figsize=(18, 4))\n",
    "    # Adjust the horizontal space between subplots\n",
    "    plt.subplots_adjust(hspace=0.4)\n",
    "    # Plot the full array with a marker on the selected value\n",
    "    axs[0].plot(time_series, marker='o', color='black', markersize=3, lw = '0.1')\n",
    "    axs[0].plot(comma_idx-1, time_series[comma_idx-1], color='r', marker='o')\n",
    "    if plot1_log_scale:\n",
    "        axs[0].set_yscale('log')\n",
    "        \n",
    "    # Plot softmax distributions for each digit\n",
    "    axs[1].set_ylabel(\"Probability Density\") \n",
    "    PDF_list[comma_idx].compute_stats()\n",
    "    PDF_list[comma_idx].plot(ax = axs[1], log_scale=log_scale, statistic = False)\n",
    "    \n",
    "    if discretized_truth:\n",
    "        PDF_true_list[comma_idx].plot(ax = axs[2], log_scale=log_scale)\n",
    "        axs[2].set_title('discretized truth')\n",
    "        axs[2].set_xlabel(\"Digit\")\n",
    "    \n",
    "    # characterizing ground truth distribution\n",
    "    true_mean = rescaled_true_mean_arr[comma_idx]\n",
    "    true_sigma = rescaled_true_sigma_arr[comma_idx]\n",
    "    x_values = np.linspace(0, 10, 300)\n",
    "    gaussian = norm.pdf(x_values, true_mean, true_sigma)\n",
    "    axs[1].plot(x_values, gaussian, color = 'r', label = 'Truth')\n",
    "    # axs[1].vlines(true_mean, 0, np.max(gaussian), color = 'r')\n",
    "    # axs[1].set_ylim(np.min(pdf.bin_height_arr), np.max(gaussian)*1.7)\n",
    "    axs[1].legend()\n",
    "    if log_scale:\n",
    "        axs[1].set_ylim(0.0005,10)\n",
    "        if discretized_truth:\n",
    "            axs[2].set_ylim(0.0005,10)\n",
    "    # return fig\n",
    "\n",
    "# Adjust the range of the slider to match the number of commas in the series\n",
    "num_commas = full_series.count(',')\n",
    "interact(digiprob_plotter, comma_idx=(1, num_commas-1, 1))"
   ]
  },
  {
   "cell_type": "markdown",
   "metadata": {},
   "source": [
    "### Temperature Scaling"
   ]
  },
  {
   "cell_type": "code",
   "execution_count": 9,
   "metadata": {},
   "outputs": [
    {
     "data": {
      "application/vnd.jupyter.widget-view+json": {
       "model_id": "9b8d17a53c2c44d5b4e433eaad67a4a7",
       "version_major": 2,
       "version_minor": 0
      },
      "text/plain": [
       "interactive(children=(IntSlider(value=1, description='comma_idx', max=999, min=1), Output()), _dom_classes=('w…"
      ]
     },
     "metadata": {},
     "output_type": "display_data"
    }
   ],
   "source": [
    "from ipywidgets import interact\n",
    "import matplotlib.pyplot as plt\n",
    "from scipy.stats import norm\n",
    "import copy\n",
    "\n",
    "save_path = f\"../figures/noisy_logistic_example_temperature_scaling.png\"\n",
    "\n",
    "### Load multiple digits to MultiResolutionPDF\n",
    "comma_locations = np.sort(np.where(np.array(list(full_series)) == ',')[0])\n",
    "time_series_rescaled = (time_series-time_series.min()) / (time_series.max()-time_series.min()) * (8.5-1.5) + 1.5\n",
    "\n",
    "plot1_log_scale = 0\n",
    "log_scale = 0\n",
    "# final_state = 975\n",
    "# temp_list = [0.3,0.7,1,3]\n",
    "temp_list = [1]\n",
    "final_state = None\n",
    "\n",
    "### Plot distribution before ith comma\n",
    "def digiprob_plotter(comma_idx=1):\n",
    "    if comma_idx == 0:\n",
    "        start_idx = 0\n",
    "    else:\n",
    "        start_idx = comma_locations[comma_idx-1]+1\n",
    "\n",
    "    fig, axs = plt.subplots(1+len(temp_list), 1, figsize=(8, 5/3*(1+len(temp_list))), dpi = 200)\n",
    "    # Adjust the horizontal space between subplots\n",
    "    plt.subplots_adjust(hspace=0.7)\n",
    "    # Plot the full array with a marker on the selected value\n",
    "    if final_state is not None:\n",
    "        time_series_plot = time_series_rescaled[:final_state+1]\n",
    "    else:\n",
    "        time_series_plot = time_series_rescaled\n",
    "    axs[0].plot(time_series_plot[:-1], marker='o', color='black', markersize=2, lw = '0.1', label = \"observation\")\n",
    "    axs[0].scatter(comma_idx, time_series_plot[comma_idx], color='r', marker='o', label = \"prediction\")\n",
    "    axs[0].set_xlabel('context length')\n",
    "    axs[0].set_ylabel(r'rescaled $x$')\n",
    "    if final_state is not None:\n",
    "        axs[0].set_xlim(-10, final_state+10)\n",
    "    if plot1_log_scale:\n",
    "        axs[0].set_yscale('log')\n",
    "        \n",
    "    for i, temp in enumerate(temp_list):\n",
    "    # Plot softmax distributions for each digit\n",
    "        axs[i+1].set_ylabel(\"probability density\")\n",
    "        if len(temp_list) > 1:\n",
    "            axs[i+1].set_title(f\"LLM temperature = {temp}\") \n",
    "        \n",
    "        PDF_copied = copy.deepcopy(PDF_list[comma_idx])\n",
    "        PDF_copied.rescale_temperature(temp)\n",
    "        PDF_copied.compute_stats()\n",
    "        PDF_copied.plot(ax = axs[i+1], log_scale=log_scale, statistic = False)\n",
    "\n",
    "        # characterizing ground truth distribution\n",
    "        true_mean = rescaled_true_mean_arr[comma_idx]\n",
    "        true_sigma = rescaled_true_sigma_arr[comma_idx]\n",
    "        if true_sigma == 0:\n",
    "            axs[i+1].vlines(true_mean, 0, np.max(PDF_list[comma_idx].bin_height_arr), color='r', label='Truth', lw = 3, alpha = 0.7)\n",
    "        else:\n",
    "            x_values = np.linspace(0, 10, 300)\n",
    "            gaussian = norm.pdf(x_values, true_mean, true_sigma)\n",
    "            axs[i+1].plot(x_values, gaussian, color = 'r', lw = 3, alpha = 0.7)\n",
    "\n",
    "        # axs[1].bar([0], [0], lw = 3, color='lightseagreen', label='bin of width 1')\n",
    "        # axs[1].bar([0], [0], lw = 3, color='blue', label='bin of width 0.01')\n",
    "        axs[1].bar([0], [0], lw = 3, color='dodgerblue', label='LLM prediction')\n",
    "        axs[1].plot([0], [0], color='r', label='truth')\n",
    "        \n",
    "        axs[i+1].set_xlabel(r'rescaled $x$')\n",
    "        axs[i+1].legend()\n",
    "        axs[i+1].set_xlim(0,10)\n",
    "        if len(temp_list) > 1:\n",
    "            axs[i+1].set_ylim(0,2.6)    \n",
    "        \n",
    "\n",
    "    axs[0].legend(loc=\"upper left\")\n",
    "\n",
    "    if final_state is not None: \n",
    "        plt.tight_layout()\n",
    "        plt.savefig(save_path)\n",
    "\n",
    "# Adjust the range of the slider to match the number of commas in the series\n",
    "num_commas = full_series.count(',')\n",
    "if final_state is not None: \n",
    "    interact(digiprob_plotter, comma_idx=final_state)\n",
    "else:\n",
    "    interact(digiprob_plotter, comma_idx=(1, num_commas-1, 1))\n"
   ]
  },
  {
   "cell_type": "code",
   "execution_count": 10,
   "metadata": {},
   "outputs": [
    {
     "data": {
      "application/vnd.jupyter.widget-view+json": {
       "model_id": "59ecd906375a4c98835a1ac33699ae48",
       "version_major": 2,
       "version_minor": 0
      },
      "text/plain": [
       "interactive(children=(IntSlider(value=987, description='comma_idx', max=2961, min=-987), Output()), _dom_class…"
      ]
     },
     "metadata": {},
     "output_type": "display_data"
    },
    {
     "data": {
      "application/vnd.jupyter.widget-view+json": {
       "model_id": "b7d03dd7603f4fcf84d3f047703ca4b1",
       "version_major": 2,
       "version_minor": 0
      },
      "text/plain": [
       "interactive(children=(IntSlider(value=988, description='comma_idx', max=2964, min=-988), Output()), _dom_class…"
      ]
     },
     "metadata": {},
     "output_type": "display_data"
    },
    {
     "data": {
      "application/vnd.jupyter.widget-view+json": {
       "model_id": "12f5167ef1af458cbddb0c6b8a510456",
       "version_major": 2,
       "version_minor": 0
      },
      "text/plain": [
       "interactive(children=(IntSlider(value=989, description='comma_idx', max=2967, min=-989), Output()), _dom_class…"
      ]
     },
     "metadata": {},
     "output_type": "display_data"
    },
    {
     "data": {
      "application/vnd.jupyter.widget-view+json": {
       "model_id": "0537847fb52144fa92bbc4f7b074b6a6",
       "version_major": 2,
       "version_minor": 0
      },
      "text/plain": [
       "interactive(children=(IntSlider(value=990, description='comma_idx', max=2970, min=-990), Output()), _dom_class…"
      ]
     },
     "metadata": {},
     "output_type": "display_data"
    },
    {
     "data": {
      "application/vnd.jupyter.widget-view+json": {
       "model_id": "1d08c971be8f411c970b1fd26e987137",
       "version_major": 2,
       "version_minor": 0
      },
      "text/plain": [
       "interactive(children=(IntSlider(value=991, description='comma_idx', max=2973, min=-991), Output()), _dom_class…"
      ]
     },
     "metadata": {},
     "output_type": "display_data"
    },
    {
     "data": {
      "application/vnd.jupyter.widget-view+json": {
       "model_id": "735037a1cdca4851bb87791aca20dadd",
       "version_major": 2,
       "version_minor": 0
      },
      "text/plain": [
       "interactive(children=(IntSlider(value=992, description='comma_idx', max=2976, min=-992), Output()), _dom_class…"
      ]
     },
     "metadata": {},
     "output_type": "display_data"
    },
    {
     "data": {
      "application/vnd.jupyter.widget-view+json": {
       "model_id": "7e453e3393a3442cad1024c2cb9cd800",
       "version_major": 2,
       "version_minor": 0
      },
      "text/plain": [
       "interactive(children=(IntSlider(value=993, description='comma_idx', max=2979, min=-993), Output()), _dom_class…"
      ]
     },
     "metadata": {},
     "output_type": "display_data"
    },
    {
     "data": {
      "application/vnd.jupyter.widget-view+json": {
       "model_id": "96b31ec8a3d84a34b008bb7f54f8a565",
       "version_major": 2,
       "version_minor": 0
      },
      "text/plain": [
       "interactive(children=(IntSlider(value=994, description='comma_idx', max=2982, min=-994), Output()), _dom_class…"
      ]
     },
     "metadata": {},
     "output_type": "display_data"
    },
    {
     "data": {
      "application/vnd.jupyter.widget-view+json": {
       "model_id": "4e4960d359ff4e0cb7dcffa62a195cc4",
       "version_major": 2,
       "version_minor": 0
      },
      "text/plain": [
       "interactive(children=(IntSlider(value=995, description='comma_idx', max=2985, min=-995), Output()), _dom_class…"
      ]
     },
     "metadata": {},
     "output_type": "display_data"
    },
    {
     "data": {
      "application/vnd.jupyter.widget-view+json": {
       "model_id": "f1fdc62a75d14197b771395ce49667ae",
       "version_major": 2,
       "version_minor": 0
      },
      "text/plain": [
       "interactive(children=(IntSlider(value=996, description='comma_idx', max=2988, min=-996), Output()), _dom_class…"
      ]
     },
     "metadata": {},
     "output_type": "display_data"
    },
    {
     "data": {
      "application/vnd.jupyter.widget-view+json": {
       "model_id": "b1e36b76f81f4b15b25dd966158e7f7c",
       "version_major": 2,
       "version_minor": 0
      },
      "text/plain": [
       "interactive(children=(IntSlider(value=997, description='comma_idx', max=2991, min=-997), Output()), _dom_class…"
      ]
     },
     "metadata": {},
     "output_type": "display_data"
    },
    {
     "data": {
      "application/vnd.jupyter.widget-view+json": {
       "model_id": "b359f24a3c034bd1a8fa3492457ac347",
       "version_major": 2,
       "version_minor": 0
      },
      "text/plain": [
       "interactive(children=(IntSlider(value=998, description='comma_idx', max=2994, min=-998), Output()), _dom_class…"
      ]
     },
     "metadata": {},
     "output_type": "display_data"
    }
   ],
   "source": [
    "from ipywidgets import interact\n",
    "import matplotlib.pyplot as plt\n",
    "from scipy.stats import norm\n",
    "import copy\n",
    "\n",
    "\n",
    "### Load multiple digits to MultiResolutionPDF\n",
    "comma_locations = np.sort(np.where(np.array(list(full_series)) == ',')[0])\n",
    "time_series_rescaled = (time_series-time_series.min()) / (time_series.max()-time_series.min()) * (8.5-1.5) + 1.5\n",
    "\n",
    "plot1_log_scale = 0\n",
    "log_scale = 0\n",
    "# final_state = 975\n",
    "# temp_list = [0.3,0.7,1,3]\n",
    "temp_list = [1]\n",
    "final_state = None\n",
    "filenames = []\n",
    "### Plot distribution before ith comma\n",
    "def digiprob_plotter(comma_idx=1):\n",
    "    if comma_idx == 0:\n",
    "        start_idx = 0\n",
    "    else:\n",
    "        start_idx = comma_locations[comma_idx-1]+1\n",
    "\n",
    "    fig, axs = plt.subplots(1+len(temp_list), 1, figsize=(8, 5/3*(1+len(temp_list))), dpi = 200)\n",
    "    # Adjust the horizontal space between subplots\n",
    "    plt.subplots_adjust(hspace=0.7)\n",
    "    # Plot the full array with a marker on the selected value\n",
    "    if final_state is not None:\n",
    "        time_series_plot = time_series_rescaled[:final_state+1]\n",
    "    else:\n",
    "        time_series_plot = time_series_rescaled\n",
    "    axs[0].plot(time_series_plot[:-1], marker='o', color='black', markersize=2, lw='0.1', label=\"observation\", zorder=1)\n",
    "    axs[0].scatter(comma_idx, time_series_plot[comma_idx], color='r', marker='o', label=\"prediction\", zorder=2)\n",
    "    axs[0].set_xlabel('context length')\n",
    "    axs[0].set_ylabel(r'rescaled $x$')\n",
    "    if final_state is not None:\n",
    "        axs[0].set_xlim(-10, final_state+10)\n",
    "    if plot1_log_scale:\n",
    "        axs[0].set_yscale('log')\n",
    "    \n",
    "        \n",
    "    for i, temp in enumerate(temp_list):\n",
    "    # Plot softmax distributions for each digit\n",
    "        axs[i+1].set_ylabel(\"probability density\")\n",
    "        if len(temp_list) > 1:\n",
    "            axs[i+1].set_title(f\"LLM temperature = {temp}\") \n",
    "        \n",
    "        PDF_copied = copy.deepcopy(PDF_list[comma_idx])\n",
    "        PDF_copied.rescale_temperature(temp)\n",
    "        PDF_copied.compute_stats()\n",
    "        PDF_copied.plot(ax = axs[i+1], log_scale=log_scale, statistic = False)\n",
    "        if log_scale:\n",
    "            axs[1].set_ylim(0.005,10)\n",
    "\n",
    "        # characterizing ground truth distribution\n",
    "        true_mean = rescaled_true_mean_arr[comma_idx]\n",
    "        true_sigma = rescaled_true_sigma_arr[comma_idx]\n",
    "        if true_sigma == 0:\n",
    "            axs[i+1].vlines(true_mean, 0, np.max(PDF_list[comma_idx].bin_height_arr), color='r', label='Truth', lw = 3, alpha = 0.7)\n",
    "        else:\n",
    "            x_values = np.linspace(0, 10, 300)\n",
    "            gaussian = norm.pdf(x_values, true_mean, true_sigma)\n",
    "            axs[i+1].plot(x_values, gaussian, color = 'r', lw = 3, alpha = 0.7)\n",
    "\n",
    "        # axs[1].bar([0], [0], lw = 3, color='lightseagreen', label='bin of width 1')\n",
    "        # axs[1].bar([0], [0], lw = 3, color='blue', label='bin of width 0.01')\n",
    "        axs[1].bar([0], [0], lw = 3, color='dodgerblue', label='LLM prediction')\n",
    "        # axs[1].plot([0], [0], color='r', label='truth')\n",
    "        \n",
    "        axs[i+1].set_xlabel(r'rescaled $x$')\n",
    "        axs[i+1].legend()\n",
    "        axs[i+1].set_xlim(0,10)\n",
    "        if len(temp_list) > 1:\n",
    "            axs[i+1].set_ylim(0,2.6)    \n",
    "        \n",
    "\n",
    "    axs[0].legend(loc=\"upper left\")\n",
    "\n",
    "    plt.tight_layout()\n",
    "    save_path = f\"../figures/lorenz_snapshot_{comma_idx}.png\"\n",
    "    filenames.append(save_path)\n",
    "    plt.savefig(save_path)\n",
    "\n",
    "# Adjust the range of the slider to match the number of commas in the series\n",
    "num_commas = full_series.count(',')\n",
    "# snapshots = [8, 87, 235, 941]\n",
    "snapshots = [987, 988,989,990,991,992,993,994,995, 996,997,998]\n",
    "for snapshot in snapshots:\n",
    "    interact(digiprob_plotter, comma_idx=snapshot)\n"
   ]
  },
  {
   "cell_type": "code",
   "execution_count": 13,
   "metadata": {},
   "outputs": [],
   "source": [
    "import imageio.v2 as imageio\n",
    "\n",
    "with imageio.get_writer('../figures/lorenz_snapshots.gif', mode='I', duration=500, loop=0) as writer:\n",
    "    for filename in filenames:\n",
    "        image = imageio.imread(filename)\n",
    "        writer.append_data(image)"
   ]
  },
  {
   "cell_type": "code",
   "execution_count": null,
   "metadata": {},
   "outputs": [],
   "source": []
  }
 ],
 "metadata": {
  "kernelspec": {
   "display_name": "LLM",
   "language": "python",
   "name": "python3"
  },
  "language_info": {
   "codemirror_mode": {
    "name": "ipython",
    "version": 3
   },
   "file_extension": ".py",
   "mimetype": "text/x-python",
   "name": "python",
   "nbconvert_exporter": "python",
   "pygments_lexer": "ipython3",
   "version": "3.11.4"
  }
 },
 "nbformat": 4,
 "nbformat_minor": 2
}
