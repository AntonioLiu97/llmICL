{
 "cells": [
  {
   "cell_type": "code",
   "execution_count": 1,
   "metadata": {},
   "outputs": [
    {
     "name": "stdout",
     "output_type": "stream",
     "text": [
      "['/home/admin-quad/LLM/llmICL/figures_analysis', '/home/admin-quad/anaconda3/envs/LLM/lib/python311.zip', '/home/admin-quad/anaconda3/envs/LLM/lib/python3.11', '/home/admin-quad/anaconda3/envs/LLM/lib/python3.11/lib-dynload', '', '/home/admin-quad/anaconda3/envs/LLM/lib/python3.11/site-packages', '/home/admin-quad/LLM/llama', '/home/admin-quad/LLM/llmICL', '../models']\n"
     ]
    }
   ],
   "source": [
    "import sys\n",
    "import os\n",
    "from pathlib import Path\n",
    "\n",
    "import sys\n",
    "import os\n",
    "from pathlib import Path\n",
    "parent_dir = os.path.dirname(os.getcwd())\n",
    "sys.path.append(parent_dir)\n",
    "sys.path.append(\"../models\")\n",
    "processed_series_path = Path(parent_dir) / 'processed_series'\n",
    "import copy\n",
    "from scipy.special import erf\n",
    "from scipy.stats import norm\n",
    "import numpy as np\n",
    "import matplotlib.pyplot as plt\n",
    "import pickle\n",
    "\n",
    "print(sys.path)\n",
    "from ICL import MultiResolutionPDF\n",
    "\n"
   ]
  },
  {
   "cell_type": "code",
   "execution_count": 2,
   "metadata": {},
   "outputs": [
    {
     "name": "stdout",
     "output_type": "stream",
     "text": [
      "[0]: brownian_motion_0.pkl\n",
      "[1]: brownian_motion_1.pkl\n",
      "[2]: brownian_motion_10.pkl\n",
      "[3]: brownian_motion_11.pkl\n",
      "[4]: brownian_motion_12.pkl\n",
      "[5]: brownian_motion_13.pkl\n",
      "[6]: brownian_motion_14.pkl\n",
      "[7]: brownian_motion_15.pkl\n",
      "[8]: brownian_motion_16.pkl\n",
      "[9]: brownian_motion_17.pkl\n",
      "[10]: brownian_motion_18.pkl\n",
      "[11]: brownian_motion_19.pkl\n",
      "[12]: brownian_motion_2.pkl\n",
      "[13]: brownian_motion_3.pkl\n",
      "[14]: brownian_motion_4.pkl\n",
      "[15]: brownian_motion_5.pkl\n",
      "[16]: brownian_motion_6.pkl\n",
      "[17]: brownian_motion_7.pkl\n",
      "[18]: brownian_motion_8.pkl\n",
      "[19]: brownian_motion_9.pkl\n",
      "[20]: correlated_gaussian_0.pkl\n",
      "[21]: correlated_gaussian_1.pkl\n",
      "[22]: correlated_gaussian_2.pkl\n",
      "[23]: correlated_gaussian_3.pkl\n",
      "[24]: correlated_gaussian_4.pkl\n",
      "[25]: correlated_gaussian_5.pkl\n",
      "[26]: correlated_gaussian_6.pkl\n",
      "[27]: correlated_gaussian_7.pkl\n",
      "[28]: correlated_gaussian_8.pkl\n",
      "[29]: correlated_gaussian_9.pkl\n",
      "[30]: geometric_brownian_motion_0.pkl\n",
      "[31]: geometric_brownian_motion_1.pkl\n",
      "[32]: geometric_brownian_motion_10.pkl\n",
      "[33]: geometric_brownian_motion_11.pkl\n",
      "[34]: geometric_brownian_motion_12.pkl\n",
      "[35]: geometric_brownian_motion_13.pkl\n",
      "[36]: geometric_brownian_motion_14.pkl\n",
      "[37]: geometric_brownian_motion_15.pkl\n",
      "[38]: geometric_brownian_motion_16.pkl\n",
      "[39]: geometric_brownian_motion_17.pkl\n",
      "[40]: geometric_brownian_motion_18.pkl\n",
      "[41]: geometric_brownian_motion_19.pkl\n",
      "[42]: geometric_brownian_motion_2.pkl\n",
      "[43]: geometric_brownian_motion_20.pkl\n",
      "[44]: geometric_brownian_motion_21.pkl\n",
      "[45]: geometric_brownian_motion_3.pkl\n",
      "[46]: geometric_brownian_motion_4.pkl\n",
      "[47]: geometric_brownian_motion_5.pkl\n",
      "[48]: geometric_brownian_motion_6.pkl\n",
      "[49]: geometric_brownian_motion_7.pkl\n",
      "[50]: geometric_brownian_motion_8.pkl\n",
      "[51]: geometric_brownian_motion_9.pkl\n",
      "[52]: logistic_map_0.pkl\n",
      "[53]: logistic_map_1.pkl\n",
      "[54]: logistic_map_10.pkl\n",
      "[55]: logistic_map_11.pkl\n",
      "[56]: logistic_map_12.pkl\n",
      "[57]: logistic_map_13.pkl\n",
      "[58]: logistic_map_14.pkl\n",
      "[59]: logistic_map_2.pkl\n",
      "[60]: logistic_map_3.pkl\n",
      "[61]: logistic_map_4.pkl\n",
      "[62]: logistic_map_5.pkl\n",
      "[63]: logistic_map_6.pkl\n",
      "[64]: logistic_map_7.pkl\n",
      "[65]: logistic_map_8.pkl\n",
      "[66]: logistic_map_9.pkl\n",
      "[67]: lorenz_system_0.pkl\n",
      "[68]: lorenz_system_1.pkl\n",
      "[69]: lorenz_system_10.pkl\n",
      "[70]: lorenz_system_11.pkl\n",
      "[71]: lorenz_system_12.pkl\n",
      "[72]: lorenz_system_13.pkl\n",
      "[73]: lorenz_system_14.pkl\n",
      "[74]: lorenz_system_15.pkl\n",
      "[75]: lorenz_system_16.pkl\n",
      "[76]: lorenz_system_17.pkl\n",
      "[77]: lorenz_system_18.pkl\n",
      "[78]: lorenz_system_19.pkl\n",
      "[79]: lorenz_system_2.pkl\n",
      "[80]: lorenz_system_20.pkl\n",
      "[81]: lorenz_system_21.pkl\n",
      "[82]: lorenz_system_22.pkl\n",
      "[83]: lorenz_system_23.pkl\n",
      "[84]: lorenz_system_24.pkl\n",
      "[85]: lorenz_system_25.pkl\n",
      "[86]: lorenz_system_26.pkl\n",
      "[87]: lorenz_system_27.pkl\n",
      "[88]: lorenz_system_28.pkl\n",
      "[89]: lorenz_system_29.pkl\n",
      "[90]: lorenz_system_3.pkl\n",
      "[91]: lorenz_system_4.pkl\n",
      "[92]: lorenz_system_5.pkl\n",
      "[93]: lorenz_system_6.pkl\n",
      "[94]: lorenz_system_7.pkl\n",
      "[95]: lorenz_system_8.pkl\n",
      "[96]: lorenz_system_9.pkl\n",
      "[97]: markov_chain_0.pkl\n",
      "[98]: markov_chain_1.pkl\n",
      "[99]: markov_chain_10.pkl\n",
      "[100]: markov_chain_11.pkl\n",
      "[101]: markov_chain_12.pkl\n",
      "[102]: markov_chain_13.pkl\n",
      "[103]: markov_chain_14.pkl\n",
      "[104]: markov_chain_15.pkl\n",
      "[105]: markov_chain_16.pkl\n",
      "[106]: markov_chain_17.pkl\n",
      "[107]: markov_chain_2.pkl\n",
      "[108]: markov_chain_3.pkl\n",
      "[109]: markov_chain_4.pkl\n",
      "[110]: markov_chain_5.pkl\n",
      "[111]: markov_chain_6.pkl\n",
      "[112]: markov_chain_7.pkl\n",
      "[113]: markov_chain_8.pkl\n",
      "[114]: markov_chain_9.pkl\n",
      "[115]: noisy_logistic_map_0.pkl\n",
      "[116]: noisy_logistic_map_1.pkl\n",
      "[117]: noisy_logistic_map_10.pkl\n",
      "[118]: noisy_logistic_map_11.pkl\n",
      "[119]: noisy_logistic_map_2.pkl\n",
      "[120]: noisy_logistic_map_3.pkl\n",
      "[121]: noisy_logistic_map_4.pkl\n",
      "[122]: noisy_logistic_map_5.pkl\n",
      "[123]: noisy_logistic_map_6.pkl\n",
      "[124]: noisy_logistic_map_7.pkl\n",
      "[125]: noisy_logistic_map_8.pkl\n",
      "[126]: noisy_logistic_map_9.pkl\n",
      "[127]: uncorrelated_gaussian_0.pkl\n",
      "[128]: uncorrelated_gaussian_1.pkl\n",
      "[129]: uncorrelated_gaussian_10.pkl\n",
      "[130]: uncorrelated_gaussian_11.pkl\n",
      "[131]: uncorrelated_gaussian_2.pkl\n",
      "[132]: uncorrelated_gaussian_3.pkl\n",
      "[133]: uncorrelated_gaussian_4.pkl\n",
      "[134]: uncorrelated_gaussian_5.pkl\n",
      "[135]: uncorrelated_gaussian_6.pkl\n",
      "[136]: uncorrelated_gaussian_7.pkl\n",
      "[137]: uncorrelated_gaussian_8.pkl\n",
      "[138]: uncorrelated_gaussian_9.pkl\n",
      "[139]: uncorrelated_uniform_0.pkl\n",
      "[140]: uncorrelated_uniform_1.pkl\n",
      "[141]: uncorrelated_uniform_2.pkl\n",
      "[142]: uncorrelated_uniform_3.pkl\n"
     ]
    }
   ],
   "source": [
    "all_files = sorted([path for path in processed_series_path.iterdir()], key=lambda x: x.name)\n",
    "for index, file in enumerate(all_files):\n",
    "    print(f\"[{index}]: {file.name}\")"
   ]
  },
  {
   "cell_type": "code",
   "execution_count": 3,
   "metadata": {},
   "outputs": [
    {
     "name": "stdout",
     "output_type": "stream",
     "text": [
      "seed: 7\n",
      "mode: neighbor\n",
      "refine_depth: 2\n",
      "prec: 3\n",
      "name: brownian_motion_4\n"
     ]
    }
   ],
   "source": [
    "alpha = 1\n",
    "# alpha = 6\n",
    "\n",
    "file = all_files[0] # neighbor depth 2\n",
    "file = all_files[1] # neighbor depth 2\n",
    "file = all_files[2] # neighbor depth 2\n",
    "file = all_files[14] # neighbor depth 2\n",
    "# file = all_files[15] # neighbor depth 2\n",
    "# file = all_files[16] # neighbor depth 2\n",
    "# file = all_files[4] # all depth 1\n",
    "# file = all_files[127] # uncorrelated gaussian\n",
    "# file = all_files[129] # uncorrelated gaussian\n",
    "processed_dict = pickle.load(file.open('rb'))\n",
    "full_series = processed_dict['full_series']\n",
    "rescaled_true_mean_arr = processed_dict['rescaled_true_mean_arr']\n",
    "rescaled_true_sigma_arr = processed_dict['rescaled_true_sigma_arr']\n",
    "llama_size = processed_dict['llama_size']\n",
    "mode = processed_dict['mode']\n",
    "refine_depth = processed_dict['refine_depth']\n",
    "random_seed = processed_dict['random_seed']\n",
    "PDF_list = processed_dict['PDF_list']\n",
    "time_series = processed_dict['time_series']\n",
    "prec = processed_dict['prec']\n",
    "print(f\"seed: {processed_dict['random_seed']}\")\n",
    "print(f\"mode: {mode}\")\n",
    "print(f\"refine_depth: {refine_depth}\")\n",
    "print(f\"prec: {prec}\")\n",
    "print(f\"name: {file.stem}\")"
   ]
  },
  {
   "cell_type": "code",
   "execution_count": 4,
   "metadata": {},
   "outputs": [],
   "source": [
    "### tune temperature \n",
    "\n",
    "for PDF in PDF_list:\n",
    "    if alpha != 1:\n",
    "        PDF.rescale_temperature(alpha)"
   ]
  },
  {
   "cell_type": "code",
   "execution_count": 5,
   "metadata": {},
   "outputs": [
    {
     "name": "stderr",
     "output_type": "stream",
     "text": [
      "/tmp/ipykernel_1384894/2555006602.py:9: RuntimeWarning: divide by zero encountered in divide\n",
      "  return 0.5 * (1 + erf((x - true_mean) / (true_sigma * np.sqrt(2))))\n",
      "/home/admin-quad/LLM/llmICL/figures_analysis/../models/ICL.py:417: RuntimeWarning: divide by zero encountered in log\n",
      "  log_ratio = np.log(self.bin_height_arr) - np.log(Multi_PDF.bin_height_arr)\n",
      "/home/admin-quad/LLM/llmICL/figures_analysis/../models/ICL.py:418: RuntimeWarning: invalid value encountered in multiply\n",
      "  weighted_log_ratio = log_ratio * self.bin_height_arr * self.bin_width_arr\n"
     ]
    }
   ],
   "source": [
    "### Calculate true discretized distribution: PDF_list_true\n",
    "### Compute discretized BT and KL loss\n",
    "\n",
    "PDF_true_list = copy.deepcopy(PDF_list)\n",
    "discrete_BT_loss = []\n",
    "discrete_KL_loss = []\n",
    "for PDF, PDF_true, true_mean, true_sigma in zip(PDF_list, PDF_true_list, rescaled_true_mean_arr, rescaled_true_sigma_arr):\n",
    "    def cdf(x):\n",
    "        return 0.5 * (1 + erf((x - true_mean) / (true_sigma * np.sqrt(2))))\n",
    "    \n",
    "    PDF_true.discretize(cdf, mode = \"cdf\")\n",
    "    PDF_true.compute_stats()\n",
    "    discrete_BT_loss += [PDF_true.BT_dist(PDF)]    \n",
    "    discrete_KL_loss += [PDF_true.KL_div(PDF)]\n",
    "\n",
    "discrete_BT_loss = np.array(discrete_BT_loss)\n",
    "discrete_KL_loss = np.array(discrete_KL_loss)\n",
    "\n",
    "### Extract statistics from MultiResolutionPDF\n",
    "\n",
    "mean_arr = []\n",
    "mode_arr = []\n",
    "sigma_arr = []\n",
    "moment_3_arr = []\n",
    "moment_4_arr = []\n",
    "\n",
    "num_commas = full_series.count(',')\n",
    "for comma_idx in range(num_commas):\n",
    "    PDF_list[comma_idx].compute_stats()\n",
    "    mean, mode, sigma = PDF_list[comma_idx].mean, PDF_list[comma_idx].mode, PDF_list[comma_idx].sigma \n",
    "    moment_3 = PDF_list[comma_idx].compute_moment(3)\n",
    "    moment_4 = PDF_list[comma_idx].compute_moment(4)\n",
    "    \n",
    "    mean_arr.append(mean)\n",
    "    mode_arr.append(mode)\n",
    "    sigma_arr.append(sigma)\n",
    "    moment_3_arr.append(moment_3)\n",
    "    moment_4_arr.append(moment_4)\n",
    "\n",
    "# Convert lists to numpy arrays\n",
    "mean_arr = np.array(mean_arr)\n",
    "mode_arr = np.array(mode_arr)\n",
    "sigma_arr = np.array(sigma_arr)\n",
    "moment_3_arr = np.array(moment_3_arr)\n",
    "moment_4_arr = np.array(moment_4_arr)\n",
    "kurtosis_arr = moment_4_arr / sigma_arr**4\n",
    "kurtosis_error = (kurtosis_arr-3)**2\n",
    "\n",
    "error_mean = np.abs(rescaled_true_mean_arr - mean_arr)\n",
    "error_mode = np.abs(rescaled_true_mean_arr - mode_arr)"
   ]
  },
  {
   "cell_type": "code",
   "execution_count": 6,
   "metadata": {},
   "outputs": [
    {
     "data": {
      "image/png": "[encoded data removed]",
      "text/plain": [
       "<Figure size 1400x600 with 1 Axes>"
      ]
     },
     "metadata": {},
     "output_type": "display_data"
    }
   ],
   "source": [
    "### Plot kurtosis\n",
    "plt.figure(figsize=(7, 3), dpi = 200)\n",
    "window_size = 2\n",
    "\n",
    "top_hat_kernel = np.ones(window_size) / window_size\n",
    "averaged_kurtosis_arr = np.convolve(kurtosis_arr, top_hat_kernel, mode='valid')\n",
    "averaged_kurtosis_error = np.convolve(kurtosis_error, top_hat_kernel, mode='valid')\n",
    "\n",
    "plt.plot(np.arange(window_size//2, len(kurtosis_arr) - window_size//2 + 1), averaged_kurtosis_arr, linewidth=2, label = 'predicted kurtosis')\n",
    "# ax1.plot(kurtosis_arr)\n",
    "plt.axhline(y=3, color='r', linestyle='-', label = 'true kurtosis')\n",
    "# plt.plot(averaged_kurtosis_error, label = 'kurtosis error', c = \"black\")\n",
    "\n",
    "plt.xlabel('context length')\n",
    "plt.ylabel(r'BM kurtosis')\n",
    "plt.yscale('log')\n",
    "plt.legend()\n",
    "plt.tight_layout()\n",
    "plt.savefig(f'../figures/BM_kurtosis_temp{alpha}.png')\n"
   ]
  },
  {
   "cell_type": "code",
   "execution_count": 14,
   "metadata": {},
   "outputs": [
    {
     "data": {
      "application/vnd.jupyter.widget-view+json": {
       "model_id": "c0ed24d63b5949609b0ea21e77aab6c4",
       "version_major": 2,
       "version_minor": 0
      },
      "text/plain": [
       "interactive(children=(IntSlider(value=1, description='comma_idx', max=999, min=1), Output()), _dom_classes=('w…"
      ]
     },
     "metadata": {},
     "output_type": "display_data"
    }
   ],
   "source": [
    "from ipywidgets import interact\n",
    "import matplotlib.pyplot as plt\n",
    "from scipy.stats import norm\n",
    "save_path = f\"../figures/BM_example_temp{alpha}.png\"\n",
    "### Load multiple digits to MultiResolutionPDF\n",
    "comma_locations = np.sort(np.where(np.array(list(full_series)) == ',')[0])\n",
    "time_series_rescaled = (time_series-time_series.min()) / (time_series.max()-time_series.min()) * (8.5-1.5) + 1.5\n",
    "\n",
    "plot1_log_scale = 0\n",
    "log_scale = 1\n",
    "truth_PDF = 0\n",
    "# final_state = 709\n",
    "final_state = None\n",
    "\n",
    "### Plot distribution before ith comma\n",
    "def digiprob_plotter(comma_idx=1):\n",
    "    if comma_idx == 0:\n",
    "        start_idx = 0\n",
    "    else:\n",
    "        start_idx = comma_locations[comma_idx-1]+1\n",
    "    if truth_PDF:\n",
    "        fig, axs = plt.subplots(3, 1, figsize=(8, 5), dpi = 200)\n",
    "    else:\n",
    "        fig, axs = plt.subplots(2, 1, figsize=(8, 10/3), dpi = 200)\n",
    "    # Adjust the horizontal space between subplots\n",
    "    plt.subplots_adjust(hspace=0.7)\n",
    "    # Plot the full array with a marker on the selected value\n",
    "    if final_state is not None:\n",
    "        time_series_plot = time_series_rescaled[:final_state+1]\n",
    "        axs[0].set_xlim(-10, final_state+10)\n",
    "    else:\n",
    "        time_series_plot = time_series_rescaled\n",
    "    axs[0].plot(time_series_plot[:-1], marker='o', color='black', markersize=2, lw = '0.1', label = \"observation\")\n",
    "    axs[0].scatter(comma_idx, time_series_plot[comma_idx], color='r', marker='o', label = \"prediction\")\n",
    "    axs[0].set_xlabel('context lenght')\n",
    "    axs[0].set_ylabel(r'rescaled $x$')\n",
    "    \n",
    "    if plot1_log_scale:\n",
    "        axs[0].set_yscale('log')\n",
    "        \n",
    "    # Plot softmax distributions for each digit\n",
    "    axs[1].set_ylabel(\"probability density\")\n",
    "    # axs[1].set_title(full_series[start_idx-30:start_idx] + \"?\")      \n",
    "    PDF_list[comma_idx].compute_stats()\n",
    "    PDF_list[comma_idx].plot(ax = axs[1], log_scale=log_scale, statistic = False)\n",
    "    if truth_PDF:\n",
    "        PDF_true_list[comma_idx].plot(ax = axs[2], log_scale=log_scale, statistic = False)\n",
    "        axs[2].set_title('discretized truth')\n",
    "        axs[2].set_xlabel(\"Digit\")\n",
    "    \n",
    "    # characterizing ground truth distribution\n",
    "    true_mean = rescaled_true_mean_arr[comma_idx]\n",
    "    true_sigma = rescaled_true_sigma_arr[comma_idx]\n",
    "    if true_sigma == 0:\n",
    "        axs[1].vlines(true_mean, 0, np.max(PDF_list[comma_idx].bin_height_arr), color='r', label='Truth', lw = 3, alpha = 0.7)\n",
    "    else:\n",
    "        x_values = np.linspace(0, 10, 300)\n",
    "        gaussian = norm.pdf(x_values, true_mean, true_sigma)\n",
    "        axs[1].plot(x_values, gaussian, color = 'r', label = 'Truth', lw = 3, alpha = 0.7)\n",
    "        # axs[1].vlines(true_mean, 0, np.max(gaussian), color = 'r')\n",
    "    # axs[1].set_ylim(np.min(pdf.bin_height_arr), np.max(gaussian)*1.7)\n",
    "    axs[1].set_xlabel(r'rescaled $x$')\n",
    "    axs[1].bar([0], [0], color='dodgerblue', label='LLM Prediction')\n",
    "    axs[1].set_xlim(0,10)\n",
    "    # axs[1].set_ylim(0,5)\n",
    "    axs[0].legend()\n",
    "    axs[1].legend()\n",
    "    if log_scale:\n",
    "        axs[1].set_ylim(0.005,10)\n",
    "        if truth_PDF:\n",
    "            axs[2].set_ylim(0.0005,10)\n",
    "    if final_state is not None: \n",
    "        plt.tight_layout()\n",
    "        plt.savefig(save_path)\n",
    "\n",
    "# Adjust the range of the slider to match the number of commas in the series\n",
    "num_commas = full_series.count(',')\n",
    "if final_state is not None: \n",
    "    interact(digiprob_plotter, comma_idx=final_state)\n",
    "else:\n",
    "    interact(digiprob_plotter, comma_idx=(1, num_commas-1, 1))"
   ]
  },
  {
   "cell_type": "code",
   "execution_count": 29,
   "metadata": {},
   "outputs": [
    {
     "data": {
      "application/vnd.jupyter.widget-view+json": {
       "model_id": "a44c98741c0f4cf3b4493595f37f4ea4",
       "version_major": 2,
       "version_minor": 0
      },
      "text/plain": [
       "interactive(children=(IntSlider(value=1, description='comma_idx', max=3, min=-1), Output()), _dom_classes=('wi…"
      ]
     },
     "metadata": {},
     "output_type": "display_data"
    },
    {
     "data": {
      "application/vnd.jupyter.widget-view+json": {
       "model_id": "4317880ae5524e638bae746cd3c75253",
       "version_major": 2,
       "version_minor": 0
      },
      "text/plain": [
       "interactive(children=(IntSlider(value=2, description='comma_idx', max=6, min=-2), Output()), _dom_classes=('wi…"
      ]
     },
     "metadata": {},
     "output_type": "display_data"
    },
    {
     "data": {
      "application/vnd.jupyter.widget-view+json": {
       "model_id": "79e0c556a2a343e790767307d2a0db76",
       "version_major": 2,
       "version_minor": 0
      },
      "text/plain": [
       "interactive(children=(IntSlider(value=3, description='comma_idx', max=9, min=-3), Output()), _dom_classes=('wi…"
      ]
     },
     "metadata": {},
     "output_type": "display_data"
    },
    {
     "data": {
      "application/vnd.jupyter.widget-view+json": {
       "model_id": "30baf46f97ff4b66b2d1870b20302ce3",
       "version_major": 2,
       "version_minor": 0
      },
      "text/plain": [
       "interactive(children=(IntSlider(value=4, description='comma_idx', max=12, min=-4), Output()), _dom_classes=('w…"
      ]
     },
     "metadata": {},
     "output_type": "display_data"
    },
    {
     "data": {
      "application/vnd.jupyter.widget-view+json": {
       "model_id": "28ceafe4660144c7becf71b4484bfa49",
       "version_major": 2,
       "version_minor": 0
      },
      "text/plain": [
       "interactive(children=(IntSlider(value=5, description='comma_idx', max=15, min=-5), Output()), _dom_classes=('w…"
      ]
     },
     "metadata": {},
     "output_type": "display_data"
    },
    {
     "data": {
      "application/vnd.jupyter.widget-view+json": {
       "model_id": "c9426a1e571348f1809422acf45d7d97",
       "version_major": 2,
       "version_minor": 0
      },
      "text/plain": [
       "interactive(children=(IntSlider(value=6, description='comma_idx', max=18, min=-6), Output()), _dom_classes=('w…"
      ]
     },
     "metadata": {},
     "output_type": "display_data"
    },
    {
     "data": {
      "application/vnd.jupyter.widget-view+json": {
       "model_id": "142f45d6fea4492b953dd1f6f44df6b0",
       "version_major": 2,
       "version_minor": 0
      },
      "text/plain": [
       "interactive(children=(IntSlider(value=10, description='comma_idx', max=30, min=-10), Output()), _dom_classes=(…"
      ]
     },
     "metadata": {},
     "output_type": "display_data"
    },
    {
     "data": {
      "application/vnd.jupyter.widget-view+json": {
       "model_id": "98f755bce0ba4e6ba52f18dc2d9a52e1",
       "version_major": 2,
       "version_minor": 0
      },
      "text/plain": [
       "interactive(children=(IntSlider(value=100, description='comma_idx', max=300, min=-100), Output()), _dom_classe…"
      ]
     },
     "metadata": {},
     "output_type": "display_data"
    },
    {
     "data": {
      "application/vnd.jupyter.widget-view+json": {
       "model_id": "9b66a13ac5044f83a39a8e9535707758",
       "version_major": 2,
       "version_minor": 0
      },
      "text/plain": [
       "interactive(children=(IntSlider(value=200, description='comma_idx', max=600, min=-200), Output()), _dom_classe…"
      ]
     },
     "metadata": {},
     "output_type": "display_data"
    },
    {
     "data": {
      "application/vnd.jupyter.widget-view+json": {
       "model_id": "c23b56a059634713a829405d49d07f20",
       "version_major": 2,
       "version_minor": 0
      },
      "text/plain": [
       "interactive(children=(IntSlider(value=300, description='comma_idx', max=900, min=-300), Output()), _dom_classe…"
      ]
     },
     "metadata": {},
     "output_type": "display_data"
    },
    {
     "data": {
      "application/vnd.jupyter.widget-view+json": {
       "model_id": "c03924dc5b4943eaa89a12ab4954338b",
       "version_major": 2,
       "version_minor": 0
      },
      "text/plain": [
       "interactive(children=(IntSlider(value=400, description='comma_idx', max=1200, min=-400), Output()), _dom_class…"
      ]
     },
     "metadata": {},
     "output_type": "display_data"
    },
    {
     "data": {
      "application/vnd.jupyter.widget-view+json": {
       "model_id": "ca4254017a0d40b9bfc608b088e5d05f",
       "version_major": 2,
       "version_minor": 0
      },
      "text/plain": [
       "interactive(children=(IntSlider(value=500, description='comma_idx', max=1500, min=-500), Output()), _dom_class…"
      ]
     },
     "metadata": {},
     "output_type": "display_data"
    },
    {
     "data": {
      "application/vnd.jupyter.widget-view+json": {
       "model_id": "b5a9956174a344bca9e1a570bd751885",
       "version_major": 2,
       "version_minor": 0
      },
      "text/plain": [
       "interactive(children=(IntSlider(value=600, description='comma_idx', max=1800, min=-600), Output()), _dom_class…"
      ]
     },
     "metadata": {},
     "output_type": "display_data"
    },
    {
     "data": {
      "application/vnd.jupyter.widget-view+json": {
       "model_id": "5c8c761fc3e04031962321ad7c02b1b1",
       "version_major": 2,
       "version_minor": 0
      },
      "text/plain": [
       "interactive(children=(IntSlider(value=700, description='comma_idx', max=2100, min=-700), Output()), _dom_class…"
      ]
     },
     "metadata": {},
     "output_type": "display_data"
    },
    {
     "data": {
      "application/vnd.jupyter.widget-view+json": {
       "model_id": "10d871b64e1049599ac4d83c7b791b2f",
       "version_major": 2,
       "version_minor": 0
      },
      "text/plain": [
       "interactive(children=(IntSlider(value=800, description='comma_idx', max=2400, min=-800), Output()), _dom_class…"
      ]
     },
     "metadata": {},
     "output_type": "display_data"
    },
    {
     "data": {
      "application/vnd.jupyter.widget-view+json": {
       "model_id": "951ba377b4084169ad6211c3d3872a39",
       "version_major": 2,
       "version_minor": 0
      },
      "text/plain": [
       "interactive(children=(IntSlider(value=900, description='comma_idx', max=2700, min=-900), Output()), _dom_class…"
      ]
     },
     "metadata": {},
     "output_type": "display_data"
    },
    {
     "data": {
      "application/vnd.jupyter.widget-view+json": {
       "model_id": "63ad740c30de4715bf6a91da9c7f5bf8",
       "version_major": 2,
       "version_minor": 0
      },
      "text/plain": [
       "interactive(children=(IntSlider(value=986, description='comma_idx', max=2958, min=-986), Output()), _dom_class…"
      ]
     },
     "metadata": {},
     "output_type": "display_data"
    }
   ],
   "source": [
    "from ipywidgets import interact\n",
    "import matplotlib.pyplot as plt\n",
    "from scipy.stats import norm\n",
    "import copy\n",
    "\n",
    "\n",
    "### Load multiple digits to MultiResolutionPDF\n",
    "comma_locations = np.sort(np.where(np.array(list(full_series)) == ',')[0])\n",
    "time_series_rescaled = (time_series-time_series.min()) / (time_series.max()-time_series.min()) * (8.5-1.5) + 1.5\n",
    "\n",
    "plot1_log_scale = 0\n",
    "log_scale = 1\n",
    "temp_list = [1]\n",
    "final_state = None\n",
    "filenames = []\n",
    "### Plot distribution before ith comma\n",
    "def digiprob_plotter(comma_idx=1):\n",
    "    if comma_idx == 0:\n",
    "        start_idx = 0\n",
    "    else:\n",
    "        start_idx = comma_locations[comma_idx-1]+1\n",
    "\n",
    "    fig, axs = plt.subplots(1+len(temp_list), 1, figsize=(8, 5/3*(1+len(temp_list))), dpi = 200)\n",
    "    # Adjust the horizontal space between subplots\n",
    "    plt.subplots_adjust(hspace=0.7)\n",
    "    # Plot the full array with a marker on the selected value\n",
    "    if final_state is not None:\n",
    "        time_series_plot = time_series_rescaled[:final_state+1]\n",
    "    else:\n",
    "        time_series_plot = time_series_rescaled\n",
    "    # axs[0].scatter(comma_idx, time_series_plot[comma_idx], color='r', marker='o', label = \"prediction\")\n",
    "    # axs[0].plot(time_series_plot[:-1], marker='o', color='black', markersize=2, lw = '0.1', label = \"observation\")\n",
    "    axs[0].plot(time_series_plot[:-1], marker='o', color='black', markersize=2, lw='0.1', label=\"observation\", zorder=1)\n",
    "    axs[0].scatter(comma_idx, time_series_plot[comma_idx], color='r', marker='o', label=\"prediction\", zorder=2)\n",
    "    axs[0].set_xlabel('context lenght')\n",
    "    axs[0].set_ylabel(r'rescaled $x$')\n",
    "    if final_state is not None:\n",
    "        axs[0].set_xlim(-10, final_state+10)\n",
    "    if plot1_log_scale:\n",
    "        axs[0].set_yscale('log')\n",
    "        \n",
    "        \n",
    "    for i, temp in enumerate(temp_list):\n",
    "    # Plot softmax distributions for each digit\n",
    "        axs[i+1].set_ylabel(\"probability density\")\n",
    "        if len(temp_list) > 1:\n",
    "            axs[i+1].set_title(f\"LLM temperature = {temp}\") \n",
    "        \n",
    "        PDF_copied = copy.deepcopy(PDF_list[comma_idx])\n",
    "        PDF_copied.rescale_temperature(temp)\n",
    "        PDF_copied.compute_stats()\n",
    "        PDF_copied.plot(ax = axs[i+1], log_scale=log_scale, statistic = False)\n",
    "        if log_scale:\n",
    "            axs[1].set_ylim(0.005,10)\n",
    "\n",
    "        # characterizing ground truth distribution\n",
    "        true_mean = rescaled_true_mean_arr[comma_idx]\n",
    "        true_sigma = rescaled_true_sigma_arr[comma_idx]\n",
    "        if true_sigma == 0:\n",
    "            axs[i+1].vlines(true_mean, 0, np.max(PDF_list[comma_idx].bin_height_arr), color='r', label='Truth', lw = 3, alpha = 0.7)\n",
    "        else:\n",
    "            x_values = np.linspace(0, 10, 300)\n",
    "            gaussian = norm.pdf(x_values, true_mean, true_sigma)\n",
    "            axs[i+1].plot(x_values, gaussian, color = 'r', lw = 3, alpha = 0.7)\n",
    "\n",
    "        # axs[1].bar([0], [0], lw = 3, color='lightseagreen', label='bin of width 1')\n",
    "        # axs[1].bar([0], [0], lw = 3, color='blue', label='bin of width 0.01')\n",
    "        axs[1].bar([0], [0], lw = 3, color='dodgerblue', label='LLM prediction')\n",
    "        axs[1].plot([0], [0], color='r', label='truth')\n",
    "        \n",
    "        axs[i+1].set_xlabel(r'rescaled $x$')\n",
    "        axs[i+1].legend()\n",
    "        axs[i+1].set_xlim(0,10)\n",
    "        if len(temp_list) > 1:\n",
    "            axs[i+1].set_ylim(0,2.6)    \n",
    "        \n",
    "\n",
    "    axs[0].legend(loc=\"lower left\")\n",
    "\n",
    "    plt.tight_layout()\n",
    "    save_path = f\"../figures/BM_example_snapshot_{comma_idx}.png\"\n",
    "    filenames.append(save_path)\n",
    "    plt.savefig(save_path)\n",
    "\n",
    "# Adjust the range of the slider to match the number of commas in the series\n",
    "num_commas = full_series.count(',')\n",
    "snapshots = [1,2,3,4,5,6,10,100,200,300,400,500,600,700,800,900,986]\n",
    "for snapshot in snapshots:\n",
    "    interact(digiprob_plotter, comma_idx=snapshot)\n"
   ]
  },
  {
   "cell_type": "code",
   "execution_count": 32,
   "metadata": {},
   "outputs": [],
   "source": [
    "# Create a GIF using snapshot made\n",
    "import imageio.v2 as imageio\n",
    "\n",
    "with imageio.get_writer('../figures/BM_snapshots.gif', mode='I', duration=500, loop=0) as writer:\n",
    "    for filename in filenames:\n",
    "        image = imageio.imread(filename)\n",
    "        writer.append_data(image)"
   ]
  },
  {
   "cell_type": "code",
   "execution_count": null,
   "metadata": {},
   "outputs": [],
   "source": []
  }
 ],
 "metadata": {
  "kernelspec": {
   "display_name": "LLM",
   "language": "python",
   "name": "python3"
  },
  "language_info": {
   "codemirror_mode": {
    "name": "ipython",
    "version": 3
   },
   "file_extension": ".py",
   "mimetype": "text/x-python",
   "name": "python",
   "nbconvert_exporter": "python",
   "pygments_lexer": "ipython3",
   "version": "3.8.10"
  }
 },
 "nbformat": 4,
 "nbformat_minor": 2
}
