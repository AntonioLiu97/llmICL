{
 "cells": [
  {
   "cell_type": "markdown",
   "id": "7238eac0",
   "metadata": {},
   "source": [
    "### This notebook is designed for evaluating probabilistic time-series predictions"
   ]
  },
  {
   "cell_type": "code",
   "execution_count": 1,
   "id": "e880b715",
   "metadata": {},
   "outputs": [],
   "source": [
    "import os\n",
    "os.environ['OMP_NUM_THREADS'] = '4'\n",
    "\n",
    "import pickle\n",
    "import numpy as np\n",
    "import pandas as pd\n",
    "from scipy.integrate import odeint\n",
    "from datetime import datetime\n",
    "import matplotlib.pyplot as plt\n",
    "import openai\n",
    "openai.api_key = os.environ['OPENAI_API_KEY']\n",
    "from data.serialize import serialize_arr, deserialize_str, SerializerSettings\n",
    "from models.llmtime import get_llmtime_predictions_data\n",
    "import torch\n",
    "\n",
    "\n",
    "# Check if directory exists, if not create it\n",
    "if not os.path.exists('plot_output'):\n",
    "    os.makedirs('plot_output')\n",
    "\n",
    "%load_ext autoreload\n",
    "%autoreload 2\n",
    "\n",
    "def plot_preds(train, test, pred_dict, model_name, show_samples=False):\n",
    "    pred = pred_dict['median']\n",
    "    pred = pd.Series(pred, index=test.index)\n",
    "    plt.figure(figsize=(8, 6), dpi=100)\n",
    "    plt.plot(train)\n",
    "    plt.plot(test, label='Truth', color='black', alpha = 0.3)\n",
    "    plt.plot(pred, label=model_name, color='purple')\n",
    "    # shade 90% confidence interval\n",
    "    samples = pred_dict['samples']\n",
    "    lower = np.quantile(samples, 0.05, axis=0)\n",
    "    upper = np.quantile(samples, 0.95, axis=0)\n",
    "    plt.fill_between(pred.index, lower, upper, alpha=0.3, color='purple')\n",
    "    if show_samples:\n",
    "        samples = pred_dict['samples']\n",
    "        # convert df to numpy array\n",
    "        samples = samples.values if isinstance(samples, pd.DataFrame) else samples\n",
    "        for i in range(min(10, samples.shape[0])):\n",
    "            plt.plot(pred.index, samples[i], color='purple', alpha=0.15, linewidth=1)\n",
    "    plt.legend(loc='upper left')\n",
    "    if 'NLL/D' in pred_dict:\n",
    "        nll = pred_dict['NLL/D']\n",
    "        if nll is not None:\n",
    "            plt.text(0.03, 0.85, f'NLL/D: {nll:.2f}', transform=plt.gca().transAxes, bbox=dict(facecolor='white', alpha=0.5))\n",
    "    current_time = datetime.now().strftime('%Y-%m-%d_%H-%M-%S')\n",
    "    plt.savefig(f'plot_output/{current_time}.png')\n",
    "\n",
    "    plt.show()\n",
    "    \n",
    "\n"
   ]
  },
  {
   "cell_type": "markdown",
   "id": "a1341ded",
   "metadata": {},
   "source": [
    "## Define models ##"
   ]
  },
  {
   "cell_type": "code",
   "execution_count": 2,
   "id": "1bdf1f3c",
   "metadata": {},
   "outputs": [],
   "source": [
    "llama_hypers = dict(\n",
    "    alpha=0.99,\n",
    "    beta=0.3,\n",
    "    temp=float(0.5),\n",
    "    basic=False,\n",
    "    settings=SerializerSettings(base=10, prec=2, signed=True, time_sep=',', bit_sep='', minus_sign='-')\n",
    ")\n",
    "\n",
    "### from paper P17\n",
    "# llama_hypers = dict(\n",
    "#     alpha=0.99,\n",
    "#     beta=0.3,\n",
    "#     temp=float(0.5),\n",
    "#     basic=False,\n",
    "#     settings=SerializerSettings(base=10, prec=3, signed=True, time_sep=',', bit_sep='', minus_sign='-')\n",
    "# )\n",
    "\n",
    "gpt4_hypers = dict(\n",
    "    alpha=0.3,\n",
    "    basic=True,\n",
    "    temp=1.0,\n",
    "    top_p=0.8,\n",
    "    settings=SerializerSettings(base=10, prec=3, signed=True, time_sep=',', bit_sep='', minus_sign='-')\n",
    ")\n",
    "\n",
    "### Default \n",
    "# gpt4_hypers = dict(\n",
    "#     alpha=0.3,\n",
    "#     basic=True,\n",
    "#     temp=1.0,\n",
    "#     top_p=0.8,\n",
    "#     settings=SerializerSettings(base=10, prec=3, signed=True, time_sep=', ', bit_sep='', minus_sign='-')\n",
    "# )\n",
    "\n",
    "gpt3_hypers = dict(\n",
    "    temp=0.7,\n",
    "    alpha=0.95,\n",
    "    beta=0.3,\n",
    "    basic=False,\n",
    "    settings=SerializerSettings(base=10, prec=3, signed=True, half_bin_correction=True)\n",
    ")\n",
    "\n",
    "### Default \n",
    "# gpt3_hypers = dict(\n",
    "#     temp=0.7,\n",
    "#     alpha=0.95,\n",
    "#     beta=0.3,\n",
    "#     basic=False,\n",
    "#     settings=SerializerSettings(base=10, prec=3, signed=True, half_bin_correction=True)\n",
    "# )\n",
    "\n",
    "\n",
    "promptcast_hypers = dict(\n",
    "    temp=0.7,\n",
    "    settings=SerializerSettings(base=10, prec=0, signed=True, \n",
    "                                time_sep=', ',\n",
    "                                bit_sep='',\n",
    "                                plus_sign='',\n",
    "                                minus_sign='-',\n",
    "                                half_bin_correction=False,\n",
    "                                decimal_point='')\n",
    ")\n",
    "\n",
    "arima_hypers = dict(p=[12,30], d=[1,2], q=[0])\n",
    "model_hypers = {\n",
    "    'LLMTime GPT-3.5': {'model': 'gpt-3.5-turbo-instruct', **gpt3_hypers},\n",
    "    'LLMTime GPT-4': {'model': 'gpt-4', **gpt4_hypers},\n",
    "    'LLMTime GPT-3': {'model': 'text-davinci-003', **gpt3_hypers},\n",
    "    'PromptCast GPT-3': {'model': 'text-davinci-003', **promptcast_hypers},\n",
    "    'ARIMA': arima_hypers,\n",
    "    'llama-7b': {'model': 'llama-7b', **llama_hypers},\n",
    "    'llama-13b': {'model': 'llama-13b', **llama_hypers},\n",
    "    'llama-70b': {'model': 'llama-70b', **llama_hypers},\n",
    "    \n",
    "}\n",
    "\n",
    "model_predict_fns = {\n",
    "    # 'ARIMA': get_arima_predictions_data,\n",
    "    # 'LLMTime GPT-3': get_llmtime_predictions_data,\n",
    "    # 'LLMTime GPT-3.5': get_llmtime_predictions_data,\n",
    "    # 'LLMTime GPT-4': get_llmtime_predictions_data,\n",
    "    # 'PromptCast GPT-3': get_promptcast_predictions_data,\n",
    "    'llama-7b': get_llmtime_predictions_data,\n",
    "    # 'llama-13b': get_llmtime_predictions_data,\n",
    "    # 'llama-70b': get_llmtime_predictions_data,\n",
    "}\n",
    "\n",
    "\n",
    "model_names = list(model_predict_fns.keys())\n"
   ]
  },
  {
   "cell_type": "markdown",
   "id": "1e1fd7c1",
   "metadata": {},
   "source": [
    "### Generate Dynamical_Systems Data"
   ]
  },
  {
   "cell_type": "code",
   "execution_count": 3,
   "id": "da7d90d7",
   "metadata": {},
   "outputs": [
    {
     "data": {
      "text/plain": [
       "[<matplotlib.lines.Line2D at 0x7f6abda1cad0>]"
      ]
     },
     "execution_count": 3,
     "metadata": {},
     "output_type": "execute_result"
    },
    {
     "data": {
      "image/png": "[encoded data removed]",
      "text/plain": [
       "<Figure size 1000x500 with 1 Axes>"
      ]
     },
     "metadata": {},
     "output_type": "display_data"
    }
   ],
   "source": [
    "### Drift-Diffusion SDE\n",
    "\n",
    "# Time discretization\n",
    "Nt = 1000 # number of steps\n",
    "dt =  0.2 # time step\n",
    "tspan = np.linspace(0, Nt*dt, Nt)\n",
    "\n",
    "# Drift and diffusion parameters\n",
    "# Drift rate\n",
    "# a = 0.3  \n",
    "a = 0\n",
    "# Noise level\n",
    "sigma = 0.8\n",
    "\n",
    "# Initialize the time series\n",
    "X = np.zeros(Nt)\n",
    "X[0] = 0  # Starting point\n",
    "delta_x = []\n",
    "\n",
    "np.random.seed(6)\n",
    "# Generate the drift-diffusion time series\n",
    "for t in range(1, Nt):\n",
    "    dW =  np.random.normal()  # Wiener process (Brownian motion)\n",
    "    dx = a * dt + sigma * np.sqrt(dt) * dW\n",
    "    delta_x += [dx]\n",
    "    X[t] = X[t-1] + dx\n",
    "\n",
    "# Store the generated time-series in a pandas DataFrame\n",
    "df = pd.DataFrame({'Time': tspan, 'X': X})\n",
    "\n",
    "# Split the data into training and testing sets\n",
    "train = df['X'][0:int(Nt/3*2)]\n",
    "test = df['X'][int(Nt/3*2):]\n",
    "\n",
    "plt.figure(figsize=(10, 5))\n",
    "plt.plot(train, alpha = 1)\n",
    "plt.plot([np.nan]*len(train)+list(test), alpha = 0.3)\n",
    "\n"
   ]
  },
  {
   "cell_type": "code",
   "execution_count": 4,
   "id": "36ac728a",
   "metadata": {},
   "outputs": [
    {
     "data": {
      "image/png": "[encoded data removed]",
      "text/plain": [
       "<Figure size 640x480 with 1 Axes>"
      ]
     },
     "metadata": {},
     "output_type": "display_data"
    }
   ],
   "source": [
    "### Logistic Map\n",
    "def logistic_map(r, x):\n",
    "    return r * x * (1 - x)\n",
    "\n",
    "# Parameters\n",
    "r = 3.9  # Control parameter\n",
    "x = 0.5  # Initial condition\n",
    "Nt = 1000  # Number of iterations\n",
    "\n",
    "time_series = []\n",
    "for i in range(Nt):\n",
    "    x = logistic_map(r, x)\n",
    "    time_series.append(x)\n",
    "    \n",
    "df = pd.DataFrame({'X': time_series})\n",
    "train = df['X'][0:int(Nt/5*4)]\n",
    "test = df['X'][int(Nt/5*4):]\n",
    "\n",
    "plt.plot(train, alpha = 1)\n",
    "plt.plot([np.nan]*len(train)+list(test), alpha = 0.3)\n",
    "plt.show()"
   ]
  },
  {
   "cell_type": "markdown",
   "id": "2da9a874",
   "metadata": {},
   "source": [
    "### Running LLMTime and extracing logits"
   ]
  },
  {
   "cell_type": "code",
   "execution_count": 5,
   "id": "7272c265",
   "metadata": {},
   "outputs": [],
   "source": [
    "from jax import grad,vmap\n",
    "def llama_nll_fn(model, input_arr, target_arr, settings:SerializerSettings, transform, count_seps=True, temp=1):\n",
    "    \"\"\" Returns the NLL/dimension (log base e) of the target array (continuous) according to the LM \n",
    "        conditioned on the input array. Applies relevant log determinant for transforms and\n",
    "        converts from discrete NLL of the LLM to continuous by assuming uniform within the bins.\n",
    "    inputs:\n",
    "        input_arr: (n,) context array\n",
    "        target_arr: (n,) ground truth array\n",
    "    Returns: NLL/D\n",
    "    \"\"\"\n",
    "    model, tokenizer = get_model_and_tokenizer(model)\n",
    "\n",
    "    input_str = serialize_arr(vmap(transform)(input_arr), settings)\n",
    "    target_str = serialize_arr(vmap(transform)(target_arr), settings)\n",
    "    full_series = input_str + target_str\n",
    "    \n",
    "    batch = tokenizer(\n",
    "        [full_series], \n",
    "        return_tensors=\"pt\",\n",
    "        add_special_tokens=True\n",
    "    )\n",
    "    batch = {k: v.cuda() for k, v in batch.items()}\n",
    "\n",
    "    with torch.no_grad():\n",
    "        out = model(**batch)\n",
    "\n",
    "    good_tokens_str = list(\"0123456789\" + settings.time_sep)\n",
    "    good_tokens = [tokenizer.convert_tokens_to_ids(token) for token in good_tokens_str]\n",
    "    bad_tokens = [i for i in range(len(tokenizer)) if i not in good_tokens]\n",
    "    out['logits'][:,:,bad_tokens] = -100\n",
    "    # why not set to -inf?\n",
    "\n",
    "    input_ids = batch['input_ids'][0][1:]\n",
    "    logprobs = torch.nn.functional.log_softmax(out['logits'], dim=-1)[0][:-1]\n",
    "    logprobs = logprobs[torch.arange(len(input_ids)), input_ids].cpu().numpy()\n",
    "\n",
    "    tokens = tokenizer.batch_decode(\n",
    "        input_ids,\n",
    "        skip_special_tokens=False, \n",
    "        clean_up_tokenization_spaces=False\n",
    "    )\n",
    "    \n",
    "    input_len = len(tokenizer([input_str], return_tensors=\"pt\",)['input_ids'][0])\n",
    "    input_len = input_len - 2 # remove the BOS token\n",
    "\n",
    "    logprobs = logprobs[input_len:]\n",
    "    tokens = tokens[input_len:]\n",
    "    BPD = -logprobs.sum()/len(target_arr)\n",
    "\n",
    "    #print(\"BPD unadjusted:\", -logprobs.sum()/len(target_arr), \"BPD adjusted:\", BPD)\n",
    "    # log p(x) = log p(token) - log bin_width = log p(token) + prec * log base\n",
    "    transformed_nll = BPD - settings.prec*np.log(settings.base)\n",
    "    avg_logdet_dydx = np.log(vmap(grad(transform))(target_arr)).mean()\n",
    "    return transformed_nll-avg_logdet_dydx"
   ]
  },
  {
   "cell_type": "markdown",
   "id": "027de391",
   "metadata": {},
   "source": [
    "### Convert time series to strings"
   ]
  },
  {
   "cell_type": "code",
   "execution_count": 6,
   "id": "d362c918",
   "metadata": {},
   "outputs": [],
   "source": [
    "from data.serialize import serialize_arr\n",
    "X = np.append(train.values, test.values) \n",
    "settings = llama_hypers['settings']\n",
    "rescale_factor = 1\n",
    "# rescale_factor = 2\n",
    "# rescale_factor = 0.3\n",
    "rescale_factor = 0.8\n",
    "rescaled_array = (X-X.min())/(X.max()-X.min())*rescale_factor+0.1\n",
    "full_series = serialize_arr(rescaled_array, settings)\n",
    "\n",
    "full_array = X"
   ]
  },
  {
   "cell_type": "code",
   "execution_count": 7,
   "id": "5ccc9e01",
   "metadata": {},
   "outputs": [],
   "source": [
    "# rescale sigma\n",
    "interval_sigma = sigma * np.sqrt(dt)/(X.max()-X.min()) * rescale_factor * settings.base ** settings.prec\n",
    "interval_mean = a * dt/(X.max()-X.min()) * rescale_factor * settings.base ** settings.prec"
   ]
  },
  {
   "cell_type": "code",
   "execution_count": 8,
   "id": "f46fdd1d",
   "metadata": {},
   "outputs": [
    {
     "data": {
      "text/plain": [
       "'90,10,31,80,41,88,14,44,89,10,34,83,32,81,38,87,19,58,83,31,79,44,89,11,35,84,29,77,48,89,10,34,83,33,82,35,84,28,76,52,88,15,48,89,10,32,81,37,86,23,66,73,58,83,31,79,43,89,12,38,87,19,58,84,29,77,48,89,10,33,82,34,83,31,79,43,89,11,37,86,23,67,71,63,78,46,89,10,31,80,41,88,14,45,89,10,32,80,40,88,16,51,89,12,40,88,15,48,89,10,33,82,36,85,26,71,62,78,45,89,10,32,81,39,87,18,54,87,19,58,84,29,77,50,89,12,39,87,19,57,85,26,72,61,80,40,88,17,51,88,14,44,89,11,35,84,28,75,53,88,17,52,88,14,44,89,10,34,82,33,82,34,83,32,81,38,86,21,61,80,40,88,16,50,89,12,38,87,19,58,83,30,79,44,89,10,33,82,34,83,32,80,40,88,16,51,89,13,42,89,12,40,88,16,50,89,12,39,87,18,55,86,21,62,79,44,89,10,34,82,33,82,34,83,33,81,37,85,24,68,69,68,70,66,73,60,82,35,84,27,74,56,85,25,70,66,74,58,84,28,76,53,88,16,51,89,13,41,88,13,42,89,12,39,87,19,57,85,26,72,61,81,39,87,17,53,88,16,49,89,11,36,85,27,73,59,83,33,82,35,84,29,76,51,88,13,43,89,11,36,85,25,70,64,75,53,87,17,52,88,15,49,89,10,34,83,32,80,40,88,16,50,89,12,39,87,17,54,87,18,55,86,21,61,80,40,88,16,49,89,11,35,84,30,78,46,89,10,31,80,41,88,14,44,89,10,34,83,32,81,38,87,20,60,81,37,86,23,65,74,57,85,26,72,61,81,39,87,17,53,87,17,54,87,18,54,87,19,57,85,25,71,64,77,50,89,12,38,87,20,60,81,37,86,22,64,76,52,88,15,48,89,10,32,81,38,86,20,61,81,39,87,18,56,85,24,68,69,68,70,66,73,59,82,34,83,32,81,38,86,21,61,80,42,89,13,41,88,15,47,89,10,31,80,41,88,14,45,89,10,32,81,39,87,18,55,86,21,61,80,41,88,14,44,89,10,33,82,35,84,29,77,49,89,11,36,85,26,71,63,78,46,89,10,31,80,41,88,14,45,89,10,33,82,36,85,26,72,62,79,45,89,10,32,81,37,86,21,63,78,48,89,10,32,81,37,86,22,63,77,48,89,10,33,82,34,83,33,82,36,85,26,71,63,78,47,89,10,31,80,41,88,14,46,89,10,31,80,41,88,14,45,89,10,32,81,38,87,19,58,83,30,79,45,89,10,33,82,36,85,26,72,62,79,45,89,10,33,82,36,85,25,70,66,74,58,84,28,76,53,88,16,50,89,12,39,87,17,53,87,17,53,87,17,53,87,17,53,87,17,54,87,18,55,87,20,60,81,37,86,23,66,73,59,83,32,80,40,88,16,51,88,13,42,89,12,39,87,19,56,85,25,70,66,73,60,82,36,85,26,71,63,78,46,89,10,31,80,41,88,14,45,89,10,32,80,39,87,17,52,88,15,47,89,10,32,80,41,88,15,47,89,10,31,80,41,88,14,45,89,10,32,81,39,87,18,54,87,19,57,85,26,71,63,78,47,89,10,31,80,41,88,14,45,89,10,33,82,36,85,25,69,67,72,62,79,44,89,10,33,82,35,84,29,77,49,89,11,35,84,29,77,48,89,10,33,82,35,84,30,77,48,89,10,33,81,37,86,23,67,72,62,79,44,89,10,34,83,31,79,43,89,12,38,86,21,62,79,44,89,11,35,84,29,77,49,89,11,36,85,25,69,67,72,62,79,43,89,11,37,86,23,67,71,63,78,46,89,10,31,80,41,88,14,45,89,10,32,81,39,87,18,56,85,24,69,68,70,66,72,61,80,40,88,16,51,89,13,42,89,13,42,89,12,40,88,16,51,89,12,40,88,15,48,89,10,33,82,36,85,25,70,66,73,58,83,31,79,43,89,11,36,85,27,73,58,83,31,79,43,89,11,36,85,26,73,60,81,37,85,24,68,70,65,74,57,85,26,72,62,80,42,89,12,39,87,17,52,88,15,49,89,10,34,83,32,80,39,87,17,52,88,15,48,89,10,33,82,34,83,32,81,39,87,18,54,87,19,57,84,28,75,55,87,20,60,81,37,86,22,65,75,54,87,18,56,86,23,67,72,62,79,43,89,11,36,85,25,70,66,74,57,84,28,75,55,86,22,64,77,'"
      ]
     },
     "execution_count": 8,
     "metadata": {},
     "output_type": "execute_result"
    }
   ],
   "source": [
    "full_series"
   ]
  },
  {
   "cell_type": "markdown",
   "id": "8db9b4a0",
   "metadata": {},
   "source": [
    "### Compute Logits"
   ]
  },
  {
   "cell_type": "code",
   "execution_count": 9,
   "id": "886d3758",
   "metadata": {},
   "outputs": [
    {
     "data": {
      "application/vnd.jupyter.widget-view+json": {
       "model_id": "a8e69dfb3179431a83cc46b593514ea5",
       "version_major": 2,
       "version_minor": 0
      },
      "text/plain": [
       "Loading checkpoint shards:   0%|          | 0/3 [00:00<?, ?it/s]"
      ]
     },
     "metadata": {},
     "output_type": "display_data"
    }
   ],
   "source": [
    "import torch\n",
    "torch.cuda.empty_cache()\n",
    "from models.llama import get_model_and_tokenizer, get_tokenizer\n",
    "\n",
    "model, tokenizer = get_model_and_tokenizer('13b')\n"
   ]
  },
  {
   "cell_type": "code",
   "execution_count": 18,
   "id": "d08d4afe",
   "metadata": {},
   "outputs": [],
   "source": [
    "batch = tokenizer(\n",
    "        [full_series], \n",
    "        return_tensors=\"pt\",\n",
    "        add_special_tokens=True\n",
    "    )\n",
    "batch = {k: v.cuda() for k, v in batch.items()}\n",
    "input_ids = batch['input_ids'][0][1:]\n",
    "\n",
    "with torch.no_grad():\n",
    "    out = model(**batch)\n",
    "    \n",
    "\n",
    "with open(f\"plot_output/{datetime.now().strftime('%Y-%m-%d_%H-%M-%S')}.pkl\", 'wb') as f:\n",
    "            pickle.dump(out['logits'], f)\n"
   ]
  },
  {
   "cell_type": "code",
   "execution_count": 10,
   "id": "e954caca",
   "metadata": {},
   "outputs": [],
   "source": [
    "# ### hand-serialized brownian motion 13b\n",
    "# with open('plot_output/2023-11-16_14-39-59.pkl', 'rb') as f:\n",
    "#     logit_mat = pickle.load(f)\n",
    "    \n",
    "# ### hand-serialized brownian motion 13b, 0 drift\n",
    "# with open('plot_output/2023-11-16_18-10-39.pkl', 'rb') as f:\n",
    "#     logit_mat = pickle.load(f)\n",
    "\n",
    "# ### hand-serialized brownian motion 13b, 0 drift, prec=2\n",
    "# with open('plot_output/2023-11-16_18-14-01.pkl', 'rb') as f:\n",
    "#     logit_mat = pickle.load(f)\n",
    "    \n",
    "### hand-serialized brownian motion 13b, 0 drift, prec=2, sigma = 0.8, seed = 6\n",
    "# with open('plot_output/2023-11-17_03-24-00.pkl', 'rb') as f:\n",
    "#     logit_mat = pickle.load(f)\n",
    "\n",
    "### hand-serialized brownian motion 13b, 0 drift, prec=2, sigma = 0.8, seed = 6, rescaled_max = 2\n",
    "# with open('plot_output/2023-11-17_03-28-16.pkl', 'rb') as f:\n",
    "#     logit_mat = pickle.load(f)\n",
    "    \n",
    "### hand-serialized brownian motion 13b, 0 drift, prec=2, sigma = 0.8, seed = 6, rescaled_max = 0.3\n",
    "# with open('plot_output/2023-11-17_03-33-54.pkl', 'rb') as f:\n",
    "#     logit_mat = pickle.load(f)\n",
    "\n",
    "### hand-serialized logistic map, rescaled_max = 1\n",
    "# with open('plot_output/2023-11-20_05-35-53.pkl', 'rb') as f:\n",
    "#     logit_mat = pickle.load(f)\n",
    "    \n",
    "### hand-serialized logistic map, rescaled_max = 0.8\n",
    "with open('plot_output/2023-11-20_05-38-30.pkl', 'rb') as f:\n",
    "    logit_mat = pickle.load(f)\n",
    "    \n",
    "### Take out only the good tokens, which is equivalent to setting bad tokens to -inf\n",
    "# good_tokens_str = list(\"0123456789\" + settings.time_sep + settings.bit_sep)\n",
    "good_tokens_str = list(\"0123456789\")\n",
    "good_tokens = [tokenizer.convert_tokens_to_ids(token) for token in good_tokens_str]\n",
    "logit_mat = logit_mat[:,:,good_tokens]"
   ]
  },
  {
   "cell_type": "markdown",
   "id": "76a8f614",
   "metadata": {},
   "source": [
    "### Visualize Softmax Prediction"
   ]
  },
  {
   "cell_type": "code",
   "execution_count": 30,
   "id": "8d1d4e66",
   "metadata": {},
   "outputs": [
    {
     "data": {
      "application/vnd.jupyter.widget-view+json": {
       "model_id": "e30c640d6f9c4f3caef270203b7a3a19",
       "version_major": 2,
       "version_minor": 0
      },
      "text/plain": [
       "interactive(children=(IntSlider(value=1, description='comma_idx', max=1000), Output()), _dom_classes=('widget-…"
      ]
     },
     "metadata": {},
     "output_type": "display_data"
    },
    {
     "data": {
      "text/plain": [
       "<function __main__.digiprob_plotter(comma_idx=1)>"
      ]
     },
     "execution_count": 30,
     "metadata": {},
     "output_type": "execute_result"
    }
   ],
   "source": [
    "### For probablistic series\n",
    "\n",
    "from ipywidgets import interact\n",
    "import matplotlib.pyplot as plt\n",
    "import numpy as np\n",
    "import torch\n",
    "from scipy.stats import norm\n",
    "\n",
    "# Assuming logit_mat, T, good_tokens_str, full_array, and full_series are defined\n",
    "# ...\n",
    "# Temperature\n",
    "T = 1\n",
    "# discard first token\n",
    "probs = torch.nn.functional.softmax(logit_mat[:,1:,:] / T, dim=-1)\n",
    "string_labels = [label for label in good_tokens_str]\n",
    "full_array_len = len(full_array)\n",
    "good_tokens_len = len(good_tokens_str)\n",
    "\n",
    "def digiprob_plotter(comma_idx=1):\n",
    "    # Ensure comma_idx is within a valid range\n",
    "    comma_idx = max(1, min(comma_idx, full_series.count(',') + 1))\n",
    "\n",
    "    # Find the start and end indices of the value at the comma_idx-th comma\n",
    "    comma_count = 0\n",
    "    start_idx = None\n",
    "    end_idx = None\n",
    "    for i, char in enumerate(full_series):\n",
    "        if char == ',':\n",
    "            comma_count += 1\n",
    "            if comma_count == comma_idx:\n",
    "                start_idx = i + 1\n",
    "            elif comma_count == comma_idx + 1:\n",
    "                end_idx = i \n",
    "                break\n",
    "\n",
    "\n",
    "    if start_idx is not None and end_idx is None:\n",
    "        end_idx = len(full_series)\n",
    "\n",
    "    # Calculate the number of digits to display in the softmax plot\n",
    "    num_digits = end_idx - start_idx\n",
    "    x_values = np.linspace(0, good_tokens_len, 300)\n",
    "    mean = (interval_mean + rescaled_array[comma_idx-1])*10\n",
    "    # print(\"mean\", mean)\n",
    "    sigma = interval_sigma/10\n",
    "    gaussian = norm.pdf(x_values, mean, sigma)\n",
    "    \n",
    "    fig, axs = plt.subplots(2, 1, figsize=(12, 6))\n",
    "    # Adjust the horizontal space between subplots\n",
    "    plt.subplots_adjust(hspace=0.4)\n",
    "    # Plot the full array with a marker on the selected value\n",
    "    axs[0].plot(full_array, marker='o', color='black', markersize=3)\n",
    "    axs[0].plot(comma_idx, full_array[comma_idx], color='r', marker='o')\n",
    "\n",
    "    # Plot softmax distributions for each digit\n",
    "    \n",
    "    axs[1].set_xlabel(\"Digit\")\n",
    "    axs[1].set_ylabel(\"Probability Density\")\n",
    "    axs[1].set_title(full_series[start_idx-30:start_idx] + \"?\")\n",
    "    \n",
    "    for i in range(num_digits):\n",
    "        digit_idx = start_idx + i\n",
    "\n",
    "        \n",
    "        if i == 0:\n",
    "            x_label_coords = np.arange(good_tokens_len)\n",
    "            x_coords = np.arange(good_tokens_len)+0.5            \n",
    "            c = 'grey'\n",
    "            w = 1\n",
    "            probs_array = probs[:, digit_idx].cpu().numpy()[0]/1\n",
    "            curr_digit = int(full_series[digit_idx])\n",
    "            curr_digit_prob = probs_array[curr_digit]\n",
    "            \n",
    "            probs_array = np.delete(probs_array, curr_digit)\n",
    "            x_coords = np.delete(x_coords, curr_digit)\n",
    "            x_labels = np.delete(string_labels, curr_digit)\n",
    "            x_label_coords = np.delete(x_label_coords, curr_digit)\n",
    "            \n",
    "            \n",
    "        elif i == 1:\n",
    "            previous_digit_prob = curr_digit_prob\n",
    "            previous_digit = int(full_series[digit_idx-1])\n",
    "            x_coords = np.linspace(previous_digit,previous_digit+1,good_tokens_len, endpoint = False)+0.05\n",
    "            x_label_coords = np.concatenate((x_label_coords, \n",
    "                                             np.linspace(previous_digit,previous_digit+1,good_tokens_len, endpoint = False)\n",
    "                                             ))\n",
    "            x_labels = np.concatenate((x_labels, string_labels))\n",
    "            c = 'black'\n",
    "            w = 0.1\n",
    "            probs_array = probs[:, digit_idx].cpu().numpy()[0]*previous_digit_prob/w\n",
    "            \n",
    "        \n",
    "        axs[1].bar(x_coords, probs_array, color=c, width = w, label = 'prediction at digit ' + str(i+1))\n",
    "        # axs[1].bar(x_coords, probs_array, color=c, width = w)\n",
    "\n",
    "    axs[1].set_xticks(x_label_coords)\n",
    "    axs[1].set_xticklabels(x_labels)\n",
    "    axs[1].plot(x_values, gaussian, color = 'r', label = 'Truth')\n",
    "    plt.legend()\n",
    "    plt.show()\n",
    "\n",
    "# Adjust the range of the slider to match the number of commas in the series\n",
    "num_commas = full_series.count(',')\n",
    "interact(digiprob_plotter, comma_idx=(0, num_commas, 1))"
   ]
  },
  {
   "cell_type": "code",
   "execution_count": 11,
   "id": "d6df769e",
   "metadata": {},
   "outputs": [
    {
     "data": {
      "application/vnd.jupyter.widget-view+json": {
       "model_id": "0acef44ab0f945139b027ceec54ecb2b",
       "version_major": 2,
       "version_minor": 0
      },
      "text/plain": [
       "interactive(children=(IntSlider(value=1, description='comma_idx', max=1000), Output()), _dom_classes=('widget-…"
      ]
     },
     "metadata": {},
     "output_type": "display_data"
    },
    {
     "data": {
      "text/plain": [
       "<function __main__.digiprob_plotter(comma_idx=1)>"
      ]
     },
     "execution_count": 11,
     "metadata": {},
     "output_type": "execute_result"
    }
   ],
   "source": [
    "### For deterministic series\n",
    "\n",
    "from ipywidgets import interact\n",
    "import matplotlib.pyplot as plt\n",
    "import numpy as np\n",
    "import torch\n",
    "\n",
    "# Assuming logit_mat, T, good_tokens_str, full_array, and full_series are defined\n",
    "# ...\n",
    "# Temperature\n",
    "T = 1\n",
    "# discard first token\n",
    "probs = torch.nn.functional.softmax(logit_mat[:,1:,:] / T, dim=-1)\n",
    "string_labels = [label for label in good_tokens_str]\n",
    "full_array_len = len(full_array)\n",
    "good_tokens_len = len(good_tokens_str)\n",
    "\n",
    "def digiprob_plotter(comma_idx=1):\n",
    "    # Ensure comma_idx is within a valid range\n",
    "    comma_idx = max(1, min(comma_idx, full_series.count(',') + 1))\n",
    "\n",
    "    # Find the start and end indices of the value at the comma_idx-th comma\n",
    "    comma_count = 0\n",
    "    start_idx = None\n",
    "    end_idx = None\n",
    "    for i, char in enumerate(full_series):\n",
    "        if char == ',':\n",
    "            comma_count += 1\n",
    "            if comma_count == comma_idx:\n",
    "                start_idx = i + 1\n",
    "            elif comma_count == comma_idx + 1:\n",
    "                end_idx = i \n",
    "                break\n",
    "\n",
    "\n",
    "    if start_idx is not None and end_idx is None:\n",
    "        end_idx = len(full_series)\n",
    "\n",
    "    # Calculate the number of digits to display in the softmax plot\n",
    "    num_digits = end_idx - start_idx\n",
    "    truth = int(full_series[start_idx:end_idx ])\n",
    "    # print('truth', truth)\n",
    "    \n",
    "    fig, axs = plt.subplots(2, 1, figsize=(12, 6))\n",
    "    # Adjust the horizontal space between subplots\n",
    "    plt.subplots_adjust(hspace=0.4)\n",
    "    # Plot the full array with a marker on the selected value\n",
    "    axs[0].plot(full_array, marker='o', color='black', markersize=3, lw = '0.1')\n",
    "    axs[0].plot(comma_idx, full_array[comma_idx], color='r', marker='o')\n",
    "\n",
    "    # Plot softmax distributions for each digit\n",
    "    \n",
    "    axs[1].set_xlabel(\"Digit\")\n",
    "    axs[1].set_ylabel(\"Probability Density\")\n",
    "    axs[1].set_title(full_series[start_idx-30:start_idx] + \"?\")\n",
    "    \n",
    "    for i in range(num_digits):\n",
    "        digit_idx = start_idx + i\n",
    "\n",
    "        \n",
    "        if i == 0:\n",
    "            x_label_coords = np.arange(good_tokens_len)\n",
    "            x_coords = np.arange(good_tokens_len)+0.5            \n",
    "            c = 'grey'\n",
    "            w = 1\n",
    "            probs_array = probs[:, digit_idx].cpu().numpy()[0]/1\n",
    "            curr_digit = int(full_series[digit_idx])\n",
    "            curr_digit_prob = probs_array[curr_digit]\n",
    "            \n",
    "            probs_array = np.delete(probs_array, curr_digit)\n",
    "            x_coords = np.delete(x_coords, curr_digit)\n",
    "            x_labels = np.delete(string_labels, curr_digit)\n",
    "            x_label_coords = np.delete(x_label_coords, curr_digit)\n",
    "            \n",
    "            \n",
    "        elif i == 1:\n",
    "            previous_digit_prob = curr_digit_prob\n",
    "            previous_digit = int(full_series[digit_idx-1])\n",
    "            x_coords = np.linspace(previous_digit,previous_digit+1,good_tokens_len, endpoint = False)+0.05\n",
    "            x_label_coords = np.concatenate((x_label_coords, \n",
    "                                             np.linspace(previous_digit,previous_digit+1,good_tokens_len, endpoint = False)\n",
    "                                             ))\n",
    "            x_labels = np.concatenate((x_labels, string_labels))\n",
    "            c = 'black'\n",
    "            w = 0.1\n",
    "            probs_array = probs[:, digit_idx].cpu().numpy()[0]*previous_digit_prob/w\n",
    "            \n",
    "        \n",
    "        axs[1].bar(x_coords, probs_array, color=c, width = w, label = 'prediction at digit ' + str(i+1))\n",
    "        # axs[1].bar(x_coords, probs_array, color=c, width = w)\n",
    "\n",
    "    axs[1].set_xticks(x_label_coords)\n",
    "    axs[1].set_xticklabels(x_labels)\n",
    "    axs[1].vlines(truth/10, 0, 7, color = 'r', label = 'Truth', lw = 3)\n",
    "    plt.legend()\n",
    "    plt.show()\n",
    "\n",
    "# Adjust the range of the slider to match the number of commas in the series\n",
    "num_commas = full_series.count(',')\n",
    "interact(digiprob_plotter, comma_idx=(0, num_commas, 1))"
   ]
  },
  {
   "cell_type": "markdown",
   "id": "b0fca45b",
   "metadata": {},
   "source": []
  },
  {
   "cell_type": "markdown",
   "id": "ab5d08c9",
   "metadata": {},
   "source": [
    "### Compare with NLL"
   ]
  },
  {
   "cell_type": "code",
   "execution_count": 11,
   "id": "a531c1e6",
   "metadata": {},
   "outputs": [],
   "source": [
    "good_tokens_str = list(\"0123456789\" + settings.time_sep + settings.bit_sep)\n",
    "good_tokens = [tokenizer.convert_tokens_to_ids(token) for token in good_tokens_str]\n",
    "bad_tokens = [i for i in range(len(tokenizer)) if i not in good_tokens]\n",
    "logit_mat[:,:,bad_tokens] = -np.inf"
   ]
  },
  {
   "cell_type": "code",
   "execution_count": 12,
   "id": "a93f4d3b",
   "metadata": {},
   "outputs": [
    {
     "ename": "RuntimeError",
     "evalue": "CUDA error: device-side assert triggered\nCUDA kernel errors might be asynchronously reported at some other API call, so the stacktrace below might be incorrect.\nFor debugging consider passing CUDA_LAUNCH_BLOCKING=1.\nCompile with `TORCH_USE_CUDA_DSA` to enable device-side assertions.\n",
     "output_type": "error",
     "traceback": [
      "\u001b[0;31m---------------------------------------------------------------------------\u001b[0m",
      "\u001b[0;31mRuntimeError\u001b[0m                              Traceback (most recent call last)",
      "File \u001b[0;32m~/anaconda3/envs/LLM/lib/python3.11/site-packages/IPython/core/formatters.py:708\u001b[0m, in \u001b[0;36mPlainTextFormatter.__call__\u001b[0;34m(self, obj)\u001b[0m\n\u001b[1;32m    701\u001b[0m stream \u001b[39m=\u001b[39m StringIO()\n\u001b[1;32m    702\u001b[0m printer \u001b[39m=\u001b[39m pretty\u001b[39m.\u001b[39mRepresentationPrinter(stream, \u001b[39mself\u001b[39m\u001b[39m.\u001b[39mverbose,\n\u001b[1;32m    703\u001b[0m     \u001b[39mself\u001b[39m\u001b[39m.\u001b[39mmax_width, \u001b[39mself\u001b[39m\u001b[39m.\u001b[39mnewline,\n\u001b[1;32m    704\u001b[0m     max_seq_length\u001b[39m=\u001b[39m\u001b[39mself\u001b[39m\u001b[39m.\u001b[39mmax_seq_length,\n\u001b[1;32m    705\u001b[0m     singleton_pprinters\u001b[39m=\u001b[39m\u001b[39mself\u001b[39m\u001b[39m.\u001b[39msingleton_printers,\n\u001b[1;32m    706\u001b[0m     type_pprinters\u001b[39m=\u001b[39m\u001b[39mself\u001b[39m\u001b[39m.\u001b[39mtype_printers,\n\u001b[1;32m    707\u001b[0m     deferred_pprinters\u001b[39m=\u001b[39m\u001b[39mself\u001b[39m\u001b[39m.\u001b[39mdeferred_printers)\n\u001b[0;32m--> 708\u001b[0m printer\u001b[39m.\u001b[39mpretty(obj)\n\u001b[1;32m    709\u001b[0m printer\u001b[39m.\u001b[39mflush()\n\u001b[1;32m    710\u001b[0m \u001b[39mreturn\u001b[39;00m stream\u001b[39m.\u001b[39mgetvalue()\n",
      "File \u001b[0;32m~/anaconda3/envs/LLM/lib/python3.11/site-packages/IPython/lib/pretty.py:410\u001b[0m, in \u001b[0;36mRepresentationPrinter.pretty\u001b[0;34m(self, obj)\u001b[0m\n\u001b[1;32m    407\u001b[0m                         \u001b[39mreturn\u001b[39;00m meth(obj, \u001b[39mself\u001b[39m, cycle)\n\u001b[1;32m    408\u001b[0m                 \u001b[39mif\u001b[39;00m \u001b[39mcls\u001b[39m \u001b[39mis\u001b[39;00m \u001b[39mnot\u001b[39;00m \u001b[39mobject\u001b[39m \\\n\u001b[1;32m    409\u001b[0m                         \u001b[39mand\u001b[39;00m \u001b[39mcallable\u001b[39m(\u001b[39mcls\u001b[39m\u001b[39m.\u001b[39m\u001b[39m__dict__\u001b[39m\u001b[39m.\u001b[39mget(\u001b[39m'\u001b[39m\u001b[39m__repr__\u001b[39m\u001b[39m'\u001b[39m)):\n\u001b[0;32m--> 410\u001b[0m                     \u001b[39mreturn\u001b[39;00m _repr_pprint(obj, \u001b[39mself\u001b[39m, cycle)\n\u001b[1;32m    412\u001b[0m     \u001b[39mreturn\u001b[39;00m _default_pprint(obj, \u001b[39mself\u001b[39m, cycle)\n\u001b[1;32m    413\u001b[0m \u001b[39mfinally\u001b[39;00m:\n",
      "File \u001b[0;32m~/anaconda3/envs/LLM/lib/python3.11/site-packages/IPython/lib/pretty.py:778\u001b[0m, in \u001b[0;36m_repr_pprint\u001b[0;34m(obj, p, cycle)\u001b[0m\n\u001b[1;32m    776\u001b[0m \u001b[39m\u001b[39m\u001b[39m\"\"\"A pprint that just redirects to the normal repr function.\"\"\"\u001b[39;00m\n\u001b[1;32m    777\u001b[0m \u001b[39m# Find newlines and replace them with p.break_()\u001b[39;00m\n\u001b[0;32m--> 778\u001b[0m output \u001b[39m=\u001b[39m \u001b[39mrepr\u001b[39m(obj)\n\u001b[1;32m    779\u001b[0m lines \u001b[39m=\u001b[39m output\u001b[39m.\u001b[39msplitlines()\n\u001b[1;32m    780\u001b[0m \u001b[39mwith\u001b[39;00m p\u001b[39m.\u001b[39mgroup():\n",
      "File \u001b[0;32m~/anaconda3/envs/LLM/lib/python3.11/site-packages/torch/_tensor.py:426\u001b[0m, in \u001b[0;36mTensor.__repr__\u001b[0;34m(self, tensor_contents)\u001b[0m\n\u001b[1;32m    422\u001b[0m     \u001b[39mreturn\u001b[39;00m handle_torch_function(\n\u001b[1;32m    423\u001b[0m         Tensor\u001b[39m.\u001b[39m\u001b[39m__repr__\u001b[39m, (\u001b[39mself\u001b[39m,), \u001b[39mself\u001b[39m, tensor_contents\u001b[39m=\u001b[39mtensor_contents\n\u001b[1;32m    424\u001b[0m     )\n\u001b[1;32m    425\u001b[0m \u001b[39m# All strings are unicode in Python 3.\u001b[39;00m\n\u001b[0;32m--> 426\u001b[0m \u001b[39mreturn\u001b[39;00m torch\u001b[39m.\u001b[39m_tensor_str\u001b[39m.\u001b[39m_str(\u001b[39mself\u001b[39m, tensor_contents\u001b[39m=\u001b[39mtensor_contents)\n",
      "File \u001b[0;32m~/anaconda3/envs/LLM/lib/python3.11/site-packages/torch/_tensor_str.py:636\u001b[0m, in \u001b[0;36m_str\u001b[0;34m(self, tensor_contents)\u001b[0m\n\u001b[1;32m    634\u001b[0m \u001b[39mwith\u001b[39;00m torch\u001b[39m.\u001b[39mno_grad(), torch\u001b[39m.\u001b[39mutils\u001b[39m.\u001b[39m_python_dispatch\u001b[39m.\u001b[39m_disable_current_modes():\n\u001b[1;32m    635\u001b[0m     guard \u001b[39m=\u001b[39m torch\u001b[39m.\u001b[39m_C\u001b[39m.\u001b[39m_DisableFuncTorch()\n\u001b[0;32m--> 636\u001b[0m     \u001b[39mreturn\u001b[39;00m _str_intern(\u001b[39mself\u001b[39m, tensor_contents\u001b[39m=\u001b[39mtensor_contents)\n",
      "File \u001b[0;32m~/anaconda3/envs/LLM/lib/python3.11/site-packages/torch/_tensor_str.py:567\u001b[0m, in \u001b[0;36m_str_intern\u001b[0;34m(inp, tensor_contents)\u001b[0m\n\u001b[1;32m    565\u001b[0m                     tensor_str \u001b[39m=\u001b[39m _tensor_str(\u001b[39mself\u001b[39m\u001b[39m.\u001b[39mto_dense(), indent)\n\u001b[1;32m    566\u001b[0m                 \u001b[39melse\u001b[39;00m:\n\u001b[0;32m--> 567\u001b[0m                     tensor_str \u001b[39m=\u001b[39m _tensor_str(\u001b[39mself\u001b[39m, indent)\n\u001b[1;32m    569\u001b[0m \u001b[39mif\u001b[39;00m \u001b[39mself\u001b[39m\u001b[39m.\u001b[39mlayout \u001b[39m!=\u001b[39m torch\u001b[39m.\u001b[39mstrided:\n\u001b[1;32m    570\u001b[0m     suffixes\u001b[39m.\u001b[39mappend(\u001b[39m\"\u001b[39m\u001b[39mlayout=\u001b[39m\u001b[39m\"\u001b[39m \u001b[39m+\u001b[39m \u001b[39mstr\u001b[39m(\u001b[39mself\u001b[39m\u001b[39m.\u001b[39mlayout))\n",
      "File \u001b[0;32m~/anaconda3/envs/LLM/lib/python3.11/site-packages/torch/_tensor_str.py:327\u001b[0m, in \u001b[0;36m_tensor_str\u001b[0;34m(self, indent)\u001b[0m\n\u001b[1;32m    323\u001b[0m     \u001b[39mreturn\u001b[39;00m _tensor_str_with_formatter(\n\u001b[1;32m    324\u001b[0m         \u001b[39mself\u001b[39m, indent, summarize, real_formatter, imag_formatter\n\u001b[1;32m    325\u001b[0m     )\n\u001b[1;32m    326\u001b[0m \u001b[39melse\u001b[39;00m:\n\u001b[0;32m--> 327\u001b[0m     formatter \u001b[39m=\u001b[39m _Formatter(get_summarized_data(\u001b[39mself\u001b[39m) \u001b[39mif\u001b[39;00m summarize \u001b[39melse\u001b[39;00m \u001b[39mself\u001b[39m)\n\u001b[1;32m    328\u001b[0m     \u001b[39mreturn\u001b[39;00m _tensor_str_with_formatter(\u001b[39mself\u001b[39m, indent, summarize, formatter)\n",
      "File \u001b[0;32m~/anaconda3/envs/LLM/lib/python3.11/site-packages/torch/_tensor_str.py:363\u001b[0m, in \u001b[0;36mget_summarized_data\u001b[0;34m(self)\u001b[0m\n\u001b[1;32m    361\u001b[0m     \u001b[39mreturn\u001b[39;00m torch\u001b[39m.\u001b[39mstack([get_summarized_data(x) \u001b[39mfor\u001b[39;00m x \u001b[39min\u001b[39;00m (start \u001b[39m+\u001b[39m end)])\n\u001b[1;32m    362\u001b[0m \u001b[39melse\u001b[39;00m:\n\u001b[0;32m--> 363\u001b[0m     \u001b[39mreturn\u001b[39;00m torch\u001b[39m.\u001b[39mstack([get_summarized_data(x) \u001b[39mfor\u001b[39;00m x \u001b[39min\u001b[39;00m \u001b[39mself\u001b[39m])\n",
      "File \u001b[0;32m~/anaconda3/envs/LLM/lib/python3.11/site-packages/torch/_tensor_str.py:363\u001b[0m, in \u001b[0;36m<listcomp>\u001b[0;34m(.0)\u001b[0m\n\u001b[1;32m    361\u001b[0m     \u001b[39mreturn\u001b[39;00m torch\u001b[39m.\u001b[39mstack([get_summarized_data(x) \u001b[39mfor\u001b[39;00m x \u001b[39min\u001b[39;00m (start \u001b[39m+\u001b[39m end)])\n\u001b[1;32m    362\u001b[0m \u001b[39melse\u001b[39;00m:\n\u001b[0;32m--> 363\u001b[0m     \u001b[39mreturn\u001b[39;00m torch\u001b[39m.\u001b[39mstack([get_summarized_data(x) \u001b[39mfor\u001b[39;00m x \u001b[39min\u001b[39;00m \u001b[39mself\u001b[39m])\n",
      "File \u001b[0;32m~/anaconda3/envs/LLM/lib/python3.11/site-packages/torch/_tensor_str.py:361\u001b[0m, in \u001b[0;36mget_summarized_data\u001b[0;34m(self)\u001b[0m\n\u001b[1;32m    359\u001b[0m     start \u001b[39m=\u001b[39m [\u001b[39mself\u001b[39m[i] \u001b[39mfor\u001b[39;00m i \u001b[39min\u001b[39;00m \u001b[39mrange\u001b[39m(\u001b[39m0\u001b[39m, PRINT_OPTS\u001b[39m.\u001b[39medgeitems)]\n\u001b[1;32m    360\u001b[0m     end \u001b[39m=\u001b[39m [\u001b[39mself\u001b[39m[i] \u001b[39mfor\u001b[39;00m i \u001b[39min\u001b[39;00m \u001b[39mrange\u001b[39m(\u001b[39mlen\u001b[39m(\u001b[39mself\u001b[39m) \u001b[39m-\u001b[39m PRINT_OPTS\u001b[39m.\u001b[39medgeitems, \u001b[39mlen\u001b[39m(\u001b[39mself\u001b[39m))]\n\u001b[0;32m--> 361\u001b[0m     \u001b[39mreturn\u001b[39;00m torch\u001b[39m.\u001b[39mstack([get_summarized_data(x) \u001b[39mfor\u001b[39;00m x \u001b[39min\u001b[39;00m (start \u001b[39m+\u001b[39m end)])\n\u001b[1;32m    362\u001b[0m \u001b[39melse\u001b[39;00m:\n\u001b[1;32m    363\u001b[0m     \u001b[39mreturn\u001b[39;00m torch\u001b[39m.\u001b[39mstack([get_summarized_data(x) \u001b[39mfor\u001b[39;00m x \u001b[39min\u001b[39;00m \u001b[39mself\u001b[39m])\n",
      "File \u001b[0;32m~/anaconda3/envs/LLM/lib/python3.11/site-packages/torch/_tensor_str.py:361\u001b[0m, in \u001b[0;36m<listcomp>\u001b[0;34m(.0)\u001b[0m\n\u001b[1;32m    359\u001b[0m     start \u001b[39m=\u001b[39m [\u001b[39mself\u001b[39m[i] \u001b[39mfor\u001b[39;00m i \u001b[39min\u001b[39;00m \u001b[39mrange\u001b[39m(\u001b[39m0\u001b[39m, PRINT_OPTS\u001b[39m.\u001b[39medgeitems)]\n\u001b[1;32m    360\u001b[0m     end \u001b[39m=\u001b[39m [\u001b[39mself\u001b[39m[i] \u001b[39mfor\u001b[39;00m i \u001b[39min\u001b[39;00m \u001b[39mrange\u001b[39m(\u001b[39mlen\u001b[39m(\u001b[39mself\u001b[39m) \u001b[39m-\u001b[39m PRINT_OPTS\u001b[39m.\u001b[39medgeitems, \u001b[39mlen\u001b[39m(\u001b[39mself\u001b[39m))]\n\u001b[0;32m--> 361\u001b[0m     \u001b[39mreturn\u001b[39;00m torch\u001b[39m.\u001b[39mstack([get_summarized_data(x) \u001b[39mfor\u001b[39;00m x \u001b[39min\u001b[39;00m (start \u001b[39m+\u001b[39m end)])\n\u001b[1;32m    362\u001b[0m \u001b[39melse\u001b[39;00m:\n\u001b[1;32m    363\u001b[0m     \u001b[39mreturn\u001b[39;00m torch\u001b[39m.\u001b[39mstack([get_summarized_data(x) \u001b[39mfor\u001b[39;00m x \u001b[39min\u001b[39;00m \u001b[39mself\u001b[39m])\n",
      "File \u001b[0;32m~/anaconda3/envs/LLM/lib/python3.11/site-packages/torch/_tensor_str.py:353\u001b[0m, in \u001b[0;36mget_summarized_data\u001b[0;34m(self)\u001b[0m\n\u001b[1;32m    351\u001b[0m \u001b[39mif\u001b[39;00m dim \u001b[39m==\u001b[39m \u001b[39m1\u001b[39m:\n\u001b[1;32m    352\u001b[0m     \u001b[39mif\u001b[39;00m \u001b[39mself\u001b[39m\u001b[39m.\u001b[39msize(\u001b[39m0\u001b[39m) \u001b[39m>\u001b[39m \u001b[39m2\u001b[39m \u001b[39m*\u001b[39m PRINT_OPTS\u001b[39m.\u001b[39medgeitems:\n\u001b[0;32m--> 353\u001b[0m         \u001b[39mreturn\u001b[39;00m torch\u001b[39m.\u001b[39mcat(\n\u001b[1;32m    354\u001b[0m             (\u001b[39mself\u001b[39m[: PRINT_OPTS\u001b[39m.\u001b[39medgeitems], \u001b[39mself\u001b[39m[\u001b[39m-\u001b[39mPRINT_OPTS\u001b[39m.\u001b[39medgeitems :])\n\u001b[1;32m    355\u001b[0m         )\n\u001b[1;32m    356\u001b[0m     \u001b[39melse\u001b[39;00m:\n\u001b[1;32m    357\u001b[0m         \u001b[39mreturn\u001b[39;00m \u001b[39mself\u001b[39m\n",
      "\u001b[0;31mRuntimeError\u001b[0m: CUDA error: device-side assert triggered\nCUDA kernel errors might be asynchronously reported at some other API call, so the stacktrace below might be incorrect.\nFor debugging consider passing CUDA_LAUNCH_BLOCKING=1.\nCompile with `TORCH_USE_CUDA_DSA` to enable device-side assertions.\n"
     ]
    }
   ],
   "source": [
    "logit_mat"
   ]
  },
  {
   "cell_type": "code",
   "execution_count": 13,
   "id": "b01df8cd",
   "metadata": {},
   "outputs": [
    {
     "ename": "RuntimeError",
     "evalue": "CUDA error: device-side assert triggered\nCUDA kernel errors might be asynchronously reported at some other API call, so the stacktrace below might be incorrect.\nFor debugging consider passing CUDA_LAUNCH_BLOCKING=1.\nCompile with `TORCH_USE_CUDA_DSA` to enable device-side assertions.\n",
     "output_type": "error",
     "traceback": [
      "\u001b[0;31m---------------------------------------------------------------------------\u001b[0m",
      "\u001b[0;31mRuntimeError\u001b[0m                              Traceback (most recent call last)",
      "\u001b[1;32m/home/admin-quad/LLM/llmtime/multi_digit_distribution_visualizer.ipynb Cell 24\u001b[0m line \u001b[0;36m1\n\u001b[0;32m----> <a href='vscode-notebook-cell://ssh-remote%2B128.84.245.250/home/admin-quad/LLM/llmtime/multi_digit_distribution_visualizer.ipynb#X32sdnNjb2RlLXJlbW90ZQ%3D%3D?line=0'>1</a>\u001b[0m logprobs \u001b[39m=\u001b[39m torch\u001b[39m.\u001b[39mnn\u001b[39m.\u001b[39mfunctional\u001b[39m.\u001b[39mlog_softmax(logit_mat, dim\u001b[39m=\u001b[39m\u001b[39m-\u001b[39m\u001b[39m1\u001b[39m)[\u001b[39m0\u001b[39m][:\u001b[39m-\u001b[39m\u001b[39m1\u001b[39m]\n\u001b[1;32m      <a href='vscode-notebook-cell://ssh-remote%2B128.84.245.250/home/admin-quad/LLM/llmtime/multi_digit_distribution_visualizer.ipynb#X32sdnNjb2RlLXJlbW90ZQ%3D%3D?line=1'>2</a>\u001b[0m \u001b[39m# logprob of the full trajectory\u001b[39;00m\n\u001b[1;32m      <a href='vscode-notebook-cell://ssh-remote%2B128.84.245.250/home/admin-quad/LLM/llmtime/multi_digit_distribution_visualizer.ipynb#X32sdnNjb2RlLXJlbW90ZQ%3D%3D?line=2'>3</a>\u001b[0m logprobs \u001b[39m=\u001b[39m logprobs[torch\u001b[39m.\u001b[39marange(\u001b[39mlen\u001b[39m(input_ids)), input_ids]\u001b[39m.\u001b[39mcpu()\u001b[39m.\u001b[39mnumpy()\n",
      "File \u001b[0;32m~/anaconda3/envs/LLM/lib/python3.11/site-packages/torch/nn/functional.py:1932\u001b[0m, in \u001b[0;36mlog_softmax\u001b[0;34m(input, dim, _stacklevel, dtype)\u001b[0m\n\u001b[1;32m   1930\u001b[0m     dim \u001b[39m=\u001b[39m _get_softmax_dim(\u001b[39m\"\u001b[39m\u001b[39mlog_softmax\u001b[39m\u001b[39m\"\u001b[39m, \u001b[39minput\u001b[39m\u001b[39m.\u001b[39mdim(), _stacklevel)\n\u001b[1;32m   1931\u001b[0m \u001b[39mif\u001b[39;00m dtype \u001b[39mis\u001b[39;00m \u001b[39mNone\u001b[39;00m:\n\u001b[0;32m-> 1932\u001b[0m     ret \u001b[39m=\u001b[39m \u001b[39minput\u001b[39m\u001b[39m.\u001b[39mlog_softmax(dim)\n\u001b[1;32m   1933\u001b[0m \u001b[39melse\u001b[39;00m:\n\u001b[1;32m   1934\u001b[0m     ret \u001b[39m=\u001b[39m \u001b[39minput\u001b[39m\u001b[39m.\u001b[39mlog_softmax(dim, dtype\u001b[39m=\u001b[39mdtype)\n",
      "\u001b[0;31mRuntimeError\u001b[0m: CUDA error: device-side assert triggered\nCUDA kernel errors might be asynchronously reported at some other API call, so the stacktrace below might be incorrect.\nFor debugging consider passing CUDA_LAUNCH_BLOCKING=1.\nCompile with `TORCH_USE_CUDA_DSA` to enable device-side assertions.\n"
     ]
    }
   ],
   "source": [
    "logprobs = torch.nn.functional.log_softmax(logit_mat, dim=-1)[0][:-1]\n",
    "# logprob of the full trajectory\n",
    "logprobs = logprobs[torch.arange(len(input_ids)), input_ids].cpu().numpy()\n",
    "NLL = -logprobs"
   ]
  },
  {
   "cell_type": "markdown",
   "id": "b588c083",
   "metadata": {},
   "source": [
    "---"
   ]
  },
  {
   "cell_type": "code",
   "execution_count": 16,
   "id": "1ed5c1d9",
   "metadata": {},
   "outputs": [
    {
     "ename": "NameError",
     "evalue": "name 'logprobs' is not defined",
     "output_type": "error",
     "traceback": [
      "\u001b[0;31m---------------------------------------------------------------------------\u001b[0m",
      "\u001b[0;31mNameError\u001b[0m                                 Traceback (most recent call last)",
      "\u001b[1;32m/home/admin-quad/LLM/llmtime/multi_digit_distribution_visualizer.ipynb Cell 26\u001b[0m line \u001b[0;36m4\n\u001b[1;32m      <a href='vscode-notebook-cell://ssh-remote%2B128.84.245.250/home/admin-quad/LLM/llmtime/multi_digit_distribution_visualizer.ipynb#X40sdnNjb2RlLXJlbW90ZQ%3D%3D?line=0'>1</a>\u001b[0m char_array \u001b[39m=\u001b[39m np\u001b[39m.\u001b[39marray(\u001b[39mlist\u001b[39m(full_series))\n\u001b[1;32m      <a href='vscode-notebook-cell://ssh-remote%2B128.84.245.250/home/admin-quad/LLM/llmtime/multi_digit_distribution_visualizer.ipynb#X40sdnNjb2RlLXJlbW90ZQ%3D%3D?line=1'>2</a>\u001b[0m comma_locations \u001b[39m=\u001b[39m np\u001b[39m.\u001b[39mwhere(char_array \u001b[39m==\u001b[39m \u001b[39m'\u001b[39m\u001b[39m,\u001b[39m\u001b[39m'\u001b[39m)[\u001b[39m0\u001b[39m][:\u001b[39m-\u001b[39m\u001b[39m1\u001b[39m]\n\u001b[0;32m----> <a href='vscode-notebook-cell://ssh-remote%2B128.84.245.250/home/admin-quad/LLM/llmtime/multi_digit_distribution_visualizer.ipynb#X40sdnNjb2RlLXJlbW90ZQ%3D%3D?line=3'>4</a>\u001b[0m NLL_digit \u001b[39m=\u001b[39m \u001b[39m-\u001b[39mlogprobs[comma_locations\u001b[39m+\u001b[39m\u001b[39m1\u001b[39m\u001b[39m-\u001b[39m\u001b[39m2\u001b[39m]\n",
      "\u001b[0;31mNameError\u001b[0m: name 'logprobs' is not defined"
     ]
    }
   ],
   "source": [
    "char_array = np.array(list(full_series))\n",
    "comma_locations = np.where(char_array == ',')[0][:-1]\n",
    "\n",
    "NLL_digit = -logprobs[comma_locations+1-2]"
   ]
  },
  {
   "cell_type": "code",
   "execution_count": 17,
   "id": "ff5890ff",
   "metadata": {},
   "outputs": [
    {
     "ename": "NameError",
     "evalue": "name 'NLL_digit' is not defined",
     "output_type": "error",
     "traceback": [
      "\u001b[0;31m---------------------------------------------------------------------------\u001b[0m",
      "\u001b[0;31mNameError\u001b[0m                                 Traceback (most recent call last)",
      "\u001b[1;32m/home/admin-quad/LLM/llmtime/multi_digit_distribution_visualizer.ipynb Cell 27\u001b[0m line \u001b[0;36m4\n\u001b[1;32m      <a href='vscode-notebook-cell://ssh-remote%2B128.84.245.250/home/admin-quad/LLM/llmtime/multi_digit_distribution_visualizer.ipynb#X41sdnNjb2RlLXJlbW90ZQ%3D%3D?line=0'>1</a>\u001b[0m window_size \u001b[39m=\u001b[39m \u001b[39m30\u001b[39m\n\u001b[1;32m      <a href='vscode-notebook-cell://ssh-remote%2B128.84.245.250/home/admin-quad/LLM/llmtime/multi_digit_distribution_visualizer.ipynb#X41sdnNjb2RlLXJlbW90ZQ%3D%3D?line=2'>3</a>\u001b[0m top_hat_kernel \u001b[39m=\u001b[39m np\u001b[39m.\u001b[39mones(window_size) \u001b[39m/\u001b[39m window_size\n\u001b[0;32m----> <a href='vscode-notebook-cell://ssh-remote%2B128.84.245.250/home/admin-quad/LLM/llmtime/multi_digit_distribution_visualizer.ipynb#X41sdnNjb2RlLXJlbW90ZQ%3D%3D?line=3'>4</a>\u001b[0m averaged_loss \u001b[39m=\u001b[39m np\u001b[39m.\u001b[39mconvolve(NLL_digit, top_hat_kernel, mode\u001b[39m=\u001b[39m\u001b[39m'\u001b[39m\u001b[39mvalid\u001b[39m\u001b[39m'\u001b[39m)\n\u001b[1;32m      <a href='vscode-notebook-cell://ssh-remote%2B128.84.245.250/home/admin-quad/LLM/llmtime/multi_digit_distribution_visualizer.ipynb#X41sdnNjb2RlLXJlbW90ZQ%3D%3D?line=4'>5</a>\u001b[0m plt\u001b[39m.\u001b[39mfigure(figsize\u001b[39m=\u001b[39m(\u001b[39m10\u001b[39m, \u001b[39m6\u001b[39m))\n\u001b[1;32m      <a href='vscode-notebook-cell://ssh-remote%2B128.84.245.250/home/admin-quad/LLM/llmtime/multi_digit_distribution_visualizer.ipynb#X41sdnNjb2RlLXJlbW90ZQ%3D%3D?line=5'>6</a>\u001b[0m plt\u001b[39m.\u001b[39mplot(NLL_digit, label\u001b[39m=\u001b[39m\u001b[39m\"\u001b[39m\u001b[39mOriginal Loss\u001b[39m\u001b[39m\"\u001b[39m, alpha\u001b[39m=\u001b[39m\u001b[39m0.7\u001b[39m, c \u001b[39m=\u001b[39m \u001b[39m'\u001b[39m\u001b[39mblack\u001b[39m\u001b[39m'\u001b[39m)\n",
      "\u001b[0;31mNameError\u001b[0m: name 'NLL_digit' is not defined"
     ]
    }
   ],
   "source": [
    "window_size = 30\n",
    "\n",
    "top_hat_kernel = np.ones(window_size) / window_size\n",
    "averaged_loss = np.convolve(NLL_digit, top_hat_kernel, mode='valid')\n",
    "plt.figure(figsize=(10, 6))\n",
    "plt.plot(NLL_digit, label=\"Original Loss\", alpha=0.7, c = 'black')\n",
    "plt.plot(np.arange(window_size//2, len(NLL_digit) - window_size//2 + 1), averaged_loss, label=\"Averaged Loss\", linewidth=2, c = 'blue')\n",
    "plt.xlabel(\"Context length\")\n",
    "plt.ylabel(\"Averaged NLL\")\n",
    "# plt.loglog()"
   ]
  },
  {
   "cell_type": "code",
   "execution_count": null,
   "id": "8cff3ba1",
   "metadata": {},
   "outputs": [],
   "source": []
  }
 ],
 "metadata": {
  "kernelspec": {
   "display_name": "fspace",
   "language": "python",
   "name": "python3"
  },
  "language_info": {
   "codemirror_mode": {
    "name": "ipython",
    "version": 3
   },
   "file_extension": ".py",
   "mimetype": "text/x-python",
   "name": "python",
   "nbconvert_exporter": "python",
   "pygments_lexer": "ipython3",
   "version": "3.11.4"
  },
  "vscode": {
   "interpreter": {
    "hash": "9436057e92285046d415c34e216bd357b01decd87fa7e06f42744a4b160880c3"
   }
  }
 },
 "nbformat": 4,
 "nbformat_minor": 5
}
