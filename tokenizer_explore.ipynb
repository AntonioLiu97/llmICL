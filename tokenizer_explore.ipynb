{
 "cells": [
  {
   "cell_type": "code",
   "execution_count": 1,
   "metadata": {},
   "outputs": [
    {
     "data": {
      "application/vnd.jupyter.widget-view+json": {
       "model_id": "0482e954fb65413c93d8b3371cff8f0c",
       "version_major": 2,
       "version_minor": 0
      },
      "text/plain": [
       "Loading checkpoint shards:   0%|          | 0/2 [00:00<?, ?it/s]"
      ]
     },
     "metadata": {},
     "output_type": "display_data"
    }
   ],
   "source": [
    "from models.llama import *\n",
    "llama_model, llama_tokenizer = get_model_and_tokenizer(\"7b\")"
   ]
  },
  {
   "cell_type": "code",
   "execution_count": 2,
   "metadata": {},
   "outputs": [
    {
     "name": "stdout",
     "output_type": "stream",
     "text": [
      "Good Tokens:\n",
      "token | string\n",
      "29900 | 0\n",
      "29896 | 1\n",
      "29906 | 2\n",
      "29941 | 3\n",
      "29946 | 4\n",
      "29945 | 5\n",
      "29953 | 6\n",
      "29955 | 7\n",
      "29947 | 8\n",
      "29929 | 9\n",
      "29892 | ,\n",
      "0 | <unk>\n",
      "2 | </s>\n"
     ]
    }
   ],
   "source": [
    "good_tokens_str = list(\"0123456789, \")\n",
    "good_tokens = [llama_tokenizer.convert_tokens_to_ids(st) for st in good_tokens_str]\n",
    "# good_tokens = llama_tokenizer.encode(good_tokens_str)\n",
    "good_tokens += [llama_tokenizer.eos_token_id]\n",
    "bad_tokens = [i for i in range(len(llama_tokenizer)) if i not in good_tokens]\n",
    "print(\"Good Tokens:\")\n",
    "print(\"token | string\")\n",
    "for token in good_tokens:\n",
    "    # print(f\"{token} | {llama_tokenizer.convert_ids_to_tokens(token)}\")\n",
    "    print(f\"{token} | {llama_tokenizer.decode(token)}\")"
   ]
  },
  {
   "cell_type": "code",
   "execution_count": 3,
   "metadata": {},
   "outputs": [
    {
     "name": "stdout",
     "output_type": "stream",
     "text": [
      "Input Tokens:\n",
      "token | string\n",
      "1 | <s>\n",
      "29871 | \n",
      "29906 | 2\n",
      "29946 | 4\n",
      "29941 | 3\n",
      "29892 | ,\n",
      "29953 | 6\n",
      "29953 | 6\n",
      "29945 | 5\n",
      "29892 | ,\n",
      "29941 | 3\n",
      "29946 | 4\n",
      "29953 | 6\n",
      "29892 | ,\n",
      "29953 | 6\n",
      "29946 | 4\n",
      "29945 | 5\n",
      "29892 | ,\n"
     ]
    }
   ],
   "source": [
    "input_str = \"243,665,346,645,\"\n",
    "# input_str = \"It was the best of times it was the worst of\"\n",
    "\n",
    "batch = llama_tokenizer([input_str], return_tensors=\"pt\")\n",
    "\n",
    "print(\"Input Tokens:\")\n",
    "print(\"token | string\")\n",
    "for token in batch[\"input_ids\"].squeeze():\n",
    "    # print(f\"{token} | {llama_tokenizer.convert_ids_to_tokens(int(token))}\")\n",
    "    print(f\"{token} | {llama_tokenizer.decode(token)}\")"
   ]
  },
  {
   "cell_type": "code",
   "execution_count": 4,
   "metadata": {},
   "outputs": [
    {
     "name": "stderr",
     "output_type": "stream",
     "text": [
      "/home/admin-quad/anaconda3/envs/LLM/lib/python3.11/site-packages/transformers/generation/utils.py:1539: UserWarning: You are calling .generate() with the `input_ids` being on a device type different than your model's device. `input_ids` is on cpu, whereas the model is on cuda. You may experience unexpected behaviors or slower generation. Please make sure that you have put `input_ids` to the correct device by calling for example input_ids = input_ids.to('cuda') before running `.generate()`.\n",
      "  warnings.warn(\n"
     ]
    },
    {
     "name": "stdout",
     "output_type": "stream",
     "text": [
      "['918,476\\nBillionaires on the Forbes 400:\\nNumber of Forbes 400']\n"
     ]
    }
   ],
   "source": [
    "generate_ids = llama_model.generate(\n",
    "            **batch,\n",
    "            do_sample=True,\n",
    "            # max_new_tokens=max_tokens,\n",
    "            max_new_tokens=30,\n",
    "            temperature=0.9, \n",
    "            top_p=0.9, \n",
    "            # bad_words_ids=[[t] for t in bad_tokens],\n",
    "            renormalize_logits=True,\n",
    "        )\n",
    "gen_strs = llama_tokenizer.batch_decode(\n",
    "            generate_ids, \n",
    "            skip_special_tokens=True, \n",
    "            clean_up_tokenization_spaces=False\n",
    "        )\n",
    "gen_strs = [x.replace(input_str, '').strip() for x in gen_strs]\n",
    "print(gen_strs)"
   ]
  },
  {
   "cell_type": "code",
   "execution_count": 165,
   "metadata": {},
   "outputs": [],
   "source": [
    "batch = llama_tokenizer([input_str], return_tensors=\"pt\",add_special_tokens=True)\n",
    "batch = {k: v.cuda() for k, v in batch.items()}\n",
    "with torch.no_grad():\n",
    "        out = llama_model(**batch)"
   ]
  },
  {
   "cell_type": "code",
   "execution_count": 170,
   "metadata": {},
   "outputs": [
    {
     "data": {
      "text/plain": [
       "torch.Size([1, 18, 32000])"
      ]
     },
     "execution_count": 170,
     "metadata": {},
     "output_type": "execute_result"
    }
   ],
   "source": [
    "out['logits'].shape"
   ]
  },
  {
   "cell_type": "markdown",
   "metadata": {},
   "source": [
    "### GPT Tokenzier"
   ]
  },
  {
   "cell_type": "code",
   "execution_count": 146,
   "metadata": {},
   "outputs": [],
   "source": [
    "from models.gpt import *\n",
    "import tiktoken"
   ]
  },
  {
   "cell_type": "code",
   "execution_count": 158,
   "metadata": {},
   "outputs": [],
   "source": [
    "# model = 'text-davinci-003'\n",
    "model = 'gpt-3.5-turbo'\n",
    "# model = 'gpt-4'\n",
    "\n",
    "# input_str = \"243,665,346,645,\"\n",
    "# input_str = \"2 4 3 , 6 6 5 , 3 4 6 , 6 4 5 ,\"\n",
    "# input_str = \"243,665,346,645,645346\"\n",
    "input_str = \"42235630\"\n",
    "# input_str = \"100,200,300,400,\"\n",
    "# input_str = \"0,1,2,3,4,5\"\n",
    "\n",
    "\n",
    "# input_str = \"It was the best of times it was the worst of\""
   ]
  },
  {
   "cell_type": "code",
   "execution_count": 159,
   "metadata": {},
   "outputs": [
    {
     "name": "stdout",
     "output_type": "stream",
     "text": [
      "token | string\n",
      "16460 | 422\n",
      "18349 | 356\n",
      "966 | 30\n"
     ]
    }
   ],
   "source": [
    "allowed_tokens = [str(i) for i in range(10)]\n",
    "allowed_tokens += [\" ,\", \" \", \"\", ' -'] \n",
    "get_allowed_ids(allowed_tokens, model)\n",
    "\n",
    "\n",
    "encoder = tiktoken.encoding_for_model(model)\n",
    "tokens = encoder.encode(input_str)\n",
    "print(\"token | string\")\n",
    "for token in tokens:\n",
    "    print(f\"{token} | {encoder.decode([token])}\")"
   ]
  },
  {
   "cell_type": "markdown",
   "metadata": {},
   "source": [
    "### Explore Serializer"
   ]
  },
  {
   "cell_type": "code",
   "execution_count": null,
   "metadata": {},
   "outputs": [],
   "source": [
    "from data.serialize import *"
   ]
  },
  {
   "cell_type": "code",
   "execution_count": null,
   "metadata": {},
   "outputs": [],
   "source": [
    "settings=SerializerSettings(base=10, prec=3, signed=True, time_sep=',', bit_sep='')\n",
    "serialize_arr(np.array([112.15379,117.89963,131.78541,128.91249]), settings)"
   ]
  },
  {
   "cell_type": "code",
   "execution_count": 4,
   "metadata": {},
   "outputs": [
    {
     "data": {
      "text/plain": [
       "<function torch.nn.functional.log_softmax(input: torch.Tensor, dim: Optional[int] = None, _stacklevel: int = 3, dtype: Optional[int] = None) -> torch.Tensor>"
      ]
     },
     "execution_count": 4,
     "metadata": {},
     "output_type": "execute_result"
    }
   ],
   "source": [
    "torch.nn.functional.log_softmax"
   ]
  },
  {
   "cell_type": "code",
   "execution_count": null,
   "metadata": {},
   "outputs": [],
   "source": []
  }
 ],
 "metadata": {
  "kernelspec": {
   "display_name": "LLM",
   "language": "python",
   "name": "python3"
  },
  "language_info": {
   "codemirror_mode": {
    "name": "ipython",
    "version": 3
   },
   "file_extension": ".py",
   "mimetype": "text/x-python",
   "name": "python",
   "nbconvert_exporter": "python",
   "pygments_lexer": "ipython3",
   "version": "3.11.4"
  },
  "orig_nbformat": 4
 },
 "nbformat": 4,
 "nbformat_minor": 2
}
