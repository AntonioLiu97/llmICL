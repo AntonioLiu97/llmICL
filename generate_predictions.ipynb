{
 "cells": [
  {
   "cell_type": "code",
   "execution_count": 1,
   "metadata": {},
   "outputs": [],
   "source": [
    "continuous_series_names = [\n",
    "                           'brownian_motion', \n",
    "                           'geometric_brownian_motion',\n",
    "                           'noisy_logistic_map',\n",
    "                           'logistic_map',\n",
    "                           'lorenz_system',\n",
    "                           'uncorrelated_gaussian',\n",
    "                           'uncorrelated_uniform'\n",
    "                           ]\n",
    "markov_chain_names = ['markov_chain']\n",
    "\n",
    "import numpy as np\n",
    "\n",
    "### Set up directory\n",
    "import sys\n",
    "import os\n",
    "from pathlib import Path\n",
    "parent_dir = os.path.dirname(os.getcwd())\n",
    "sys.path.append(parent_dir)\n",
    "\n",
    "from tqdm import tqdm\n",
    "import pickle\n",
    "import torch\n",
    "from llama import get_model_and_tokenizer\n",
    "from ICL import MultiResolutionPDF, recursive_refiner, trim_kv_cache\n",
    "from baseline_models import *\n",
    "\n",
    "# Check if directory exists, if not create it\n",
    "save_path = Path(parent_dir) / 'processed_series'\n",
    "if not os.path.exists(save_path):\n",
    "    os.makedirs(save_path)\n",
    "    \n",
    "# Define the directory where the generated series are stored\n",
    "generated_series_dir = Path(parent_dir) / 'generated_series'"
   ]
  },
  {
   "cell_type": "code",
   "execution_count": 2,
   "metadata": {},
   "outputs": [
    {
     "data": {
      "application/vnd.jupyter.widget-view+json": {
       "model_id": "8501ee00657246ac8408228a58edb31c",
       "version_major": 2,
       "version_minor": 0
      },
      "text/plain": [
       "Loading checkpoint shards:   0%|          | 0/3 [00:00<?, ?it/s]"
      ]
     },
     "metadata": {},
     "output_type": "display_data"
    }
   ],
   "source": [
    "def calculate_Markov(full_series, llama_size = '13b'):\n",
    "    '''\n",
    "     This function calculates the multi-resolution probability density function (PDF) for a given series.\n",
    "\n",
    "     Parameters:\n",
    "     full_series (str): The series for which the PDF is to be calculated.\n",
    "     llama_size (str, optional): The size of the llama model. Defaults to '13b'.\n",
    "\n",
    "     Returns:\n",
    "\n",
    "    '''\n",
    "    model, tokenizer = get_model_and_tokenizer(llama_size)\n",
    "    states = sorted(set(full_series))\n",
    "    good_tokens = [tokenizer.convert_tokens_to_ids(state) for state in states]\n",
    "    batch = tokenizer(\n",
    "        [full_series], \n",
    "        return_tensors=\"pt\",\n",
    "        add_special_tokens=True        \n",
    "    )\n",
    "    torch.cuda.empty_cache()\n",
    "    with torch.no_grad():\n",
    "        out = model(batch['input_ids'].cpu())\n",
    "    logit_mat = out['logits']\n",
    "    logit_mat_good = logit_mat[:,:,good_tokens].cpu()\n",
    "\n",
    "    return logit_mat_good\n",
    "\n",
    "\n",
    "\n",
    "model, tokenizer = get_model_and_tokenizer('13b')\n",
    "def calculate_multiPDF(full_series, prec, mode = 'neighbor', refine_depth = 1, llama_size = '13b'):\n",
    "    '''\n",
    "     This function calculates the multi-resolution probability density function (PDF) for a given series.\n",
    "\n",
    "     Parameters:\n",
    "     full_series (str): The series for which the PDF is to be calculated.\n",
    "     prec (int): The precision of the PDF.\n",
    "     mode (str, optional): The mode of calculation. Defaults to 'neighbor'.\n",
    "     refine_depth (int, optional): The depth of refinement for the PDF. Defaults to 1.\n",
    "     llama_size (str, optional): The size of the llama model. Defaults to '13b'.\n",
    "\n",
    "     Returns:\n",
    "     list: A list of PDFs for the series.\n",
    "    '''\n",
    "    if llama_size != '13b':\n",
    "        assert False, \"Llama size must be '13b'\"\n",
    "    good_tokens_str = list(\"0123456789\")\n",
    "    good_tokens = [tokenizer.convert_tokens_to_ids(token) for token in good_tokens_str]\n",
    "    assert refine_depth < prec, \"Refine depth must be less than precision\"\n",
    "    refine_depth = refine_depth - prec\n",
    "    curr = -prec\n",
    "    batch = tokenizer(\n",
    "        [full_series], \n",
    "        return_tensors=\"pt\",\n",
    "        add_special_tokens=True        \n",
    "    )\n",
    "    torch.cuda.empty_cache()\n",
    "    with torch.no_grad():\n",
    "        out = model(batch['input_ids'].cuda(), use_cache=True)\n",
    "        # out = model(batch['input_ids'].cpu(), use_cache=True)\n",
    "    logit_mat = out['logits']\n",
    "    kv_cache_main = out['past_key_values']\n",
    "    logit_mat_good = logit_mat[:,:,good_tokens].clone()\n",
    "    probs = torch.nn.functional.softmax(logit_mat_good[:,1:,:], dim=-1)\n",
    "    \n",
    "    PDF_list = []\n",
    "    comma_locations = np.sort(np.where(np.array(list(full_series)) == ',')[0])\n",
    "\n",
    "    for i in tqdm(range(len(comma_locations))):\n",
    "        PDF = MultiResolutionPDF()\n",
    "        # slice out the number before ith comma\n",
    "        if i == 0:\n",
    "            start_idx = 0\n",
    "        else:\n",
    "            start_idx = comma_locations[i-1]+1\n",
    "        end_idx = comma_locations[i]\n",
    "        num_slice = full_series[start_idx:end_idx]\n",
    "        prob_slice = probs[0,start_idx:end_idx].cpu().numpy()\n",
    "        ### Load hierarchical PDF \n",
    "        PDF.load_from_num_prob(num_slice, prob_slice)\n",
    "        \n",
    "        ### Refine hierarchical PDF\n",
    "        seq = full_series[:end_idx]\n",
    "        # cache and full_series are shifted from beginning, not end\n",
    "        end_idx_neg = end_idx - len(full_series)\n",
    "        ### kv cache contains seq[0:-1]\n",
    "        kv_cache = trim_kv_cache(kv_cache_main, end_idx_neg-1)\n",
    "        recursive_refiner(PDF, seq, curr = curr, main = True, refine_depth = refine_depth, mode = mode, \n",
    "                        kv_cache = kv_cache, model = model, tokenizer = tokenizer, good_tokens=good_tokens)\n",
    "\n",
    "        PDF_list += [PDF]\n",
    "        \n",
    "    # release memory\n",
    "    del logit_mat, kv_cache_main\n",
    "    return PDF_list"
   ]
  },
  {
   "cell_type": "code",
   "execution_count": 5,
   "metadata": {},
   "outputs": [],
   "source": [
    "# Initialize dictionaries to store the data for continuous series and Markov chains\n",
    "continuous_series_task = {}\n",
    "markov_chain_task = {}\n",
    "\n",
    "# Loop through each file in the directory\n",
    "for file in generated_series_dir.iterdir():\n",
    "    # Check if a series is already processed\n",
    "    if not (save_path / file.name).exists():\\\n",
    "        # Extract the series name from the file name\n",
    "        series_name = file.stem.rsplit('_', 1)[0]\n",
    "        # If the series is a continuous series, load the data into the continuous_series_data dictionary\n",
    "        if series_name in continuous_series_names:\n",
    "            continuous_series_task[file.name] = pickle.load(file.open('rb'))\n",
    "        # If the series is a Markov chain, load the data into the markov_chain_data dictionary\n",
    "        elif series_name in markov_chain_names:\n",
    "            markov_chain_task[file.name] = pickle.load(file.open('rb'))\n",
    "        # If the series name is not recognized, raise an exception\n",
    "        # else:\n",
    "        #     raise Exception(f\"Unrecognized series name: {series_name}\")\n",
    "        \n"
   ]
  },
  {
   "cell_type": "code",
   "execution_count": 6,
   "metadata": {},
   "outputs": [
    {
     "name": "stdout",
     "output_type": "stream",
     "text": [
      "dict_keys(['lorenz_system_6.pkl', 'brownian_motion_1.pkl', 'lorenz_system_3.pkl', 'brownian_motion_2.pkl', 'brownian_motion_12.pkl', 'brownian_motion_15.pkl', 'lorenz_system_9.pkl', 'noisy_logistic_map_8.pkl', 'uncorrelated_uniform_1.pkl', 'lorenz_system_0.pkl', 'noisy_logistic_map_14.pkl', 'noisy_logistic_map_9.pkl', 'geometric_brownian_motion_5.pkl', 'lorenz_system_12.pkl', 'logistic_map_6.pkl', 'noisy_logistic_map_13.pkl', 'brownian_motion_19.pkl', 'logistic_map_5.pkl', 'lorenz_system_20.pkl', 'logistic_map_10.pkl', 'noisy_logistic_map_16.pkl', 'geometric_brownian_motion_3.pkl', 'lorenz_system_2.pkl', 'logistic_map_14.pkl', 'geometric_brownian_motion_18.pkl', 'uncorrelated_gaussian_4.pkl', 'logistic_map_4.pkl', 'uncorrelated_gaussian_3.pkl', 'uncorrelated_gaussian_8.pkl', 'lorenz_system_25.pkl', 'brownian_motion_8.pkl', 'brownian_motion_5.pkl', 'geometric_brownian_motion_11.pkl', 'geometric_brownian_motion_17.pkl', 'uncorrelated_gaussian_7.pkl', 'lorenz_system_11.pkl', 'noisy_logistic_map_22.pkl', 'lorenz_system_14.pkl', 'uncorrelated_gaussian_5.pkl', 'uncorrelated_gaussian_2.pkl', 'geometric_brownian_motion_14.pkl', 'noisy_logistic_map_7.pkl', 'noisy_logistic_map_21.pkl', 'brownian_motion_17.pkl', 'geometric_brownian_motion_13.pkl', 'noisy_logistic_map_10.pkl', 'logistic_map_9.pkl', 'logistic_map_11.pkl', 'uncorrelated_gaussian_9.pkl', 'uncorrelated_uniform_3.pkl', 'brownian_motion_11.pkl', 'geometric_brownian_motion_15.pkl', 'geometric_brownian_motion_6.pkl', 'geometric_brownian_motion_12.pkl', 'brownian_motion_18.pkl', 'uncorrelated_gaussian_1.pkl', 'lorenz_system_28.pkl', 'geometric_brownian_motion_19.pkl', 'lorenz_system_10.pkl', 'logistic_map_0.pkl', 'brownian_motion_9.pkl', 'noisy_logistic_map_12.pkl', 'lorenz_system_19.pkl', 'lorenz_system_18.pkl', 'geometric_brownian_motion_0.pkl', 'uncorrelated_gaussian_0.pkl', 'brownian_motion_14.pkl', 'noisy_logistic_map_18.pkl', 'noisy_logistic_map_5.pkl', 'brownian_motion_16.pkl', 'uncorrelated_gaussian_6.pkl', 'uncorrelated_gaussian_10.pkl', 'logistic_map_8.pkl', 'lorenz_system_5.pkl', 'geometric_brownian_motion_1.pkl', 'lorenz_system_13.pkl', 'geometric_brownian_motion_9.pkl', 'noisy_logistic_map_2.pkl', 'geometric_brownian_motion_4.pkl', 'brownian_motion_7.pkl', 'brownian_motion_10.pkl', 'logistic_map_13.pkl', 'brownian_motion_4.pkl', 'lorenz_system_24.pkl', 'geometric_brownian_motion_2.pkl', 'lorenz_system_27.pkl', 'brownian_motion_0.pkl', 'noisy_logistic_map_17.pkl', 'lorenz_system_22.pkl', 'lorenz_system_16.pkl', 'logistic_map_12.pkl', 'brownian_motion_13.pkl', 'uncorrelated_gaussian_11.pkl', 'noisy_logistic_map_6.pkl', 'lorenz_system_7.pkl', 'lorenz_system_21.pkl', 'noisy_logistic_map_11.pkl', 'brownian_motion_3.pkl', 'noisy_logistic_map_20.pkl', 'uncorrelated_uniform_0.pkl', 'lorenz_system_8.pkl', 'logistic_map_7.pkl', 'geometric_brownian_motion_16.pkl', 'lorenz_system_1.pkl', 'noisy_logistic_map_15.pkl', 'brownian_motion_6.pkl', 'lorenz_system_15.pkl', 'lorenz_system_26.pkl', 'geometric_brownian_motion_21.pkl', 'logistic_map_2.pkl', 'lorenz_system_29.pkl', 'noisy_logistic_map_0.pkl', 'geometric_brownian_motion_8.pkl', 'noisy_logistic_map_4.pkl', 'logistic_map_1.pkl', 'geometric_brownian_motion_7.pkl', 'lorenz_system_17.pkl', 'logistic_map_3.pkl', 'lorenz_system_23.pkl', 'noisy_logistic_map_3.pkl', 'uncorrelated_uniform_2.pkl', 'geometric_brownian_motion_10.pkl', 'geometric_brownian_motion_20.pkl', 'noisy_logistic_map_19.pkl', 'lorenz_system_4.pkl', 'noisy_logistic_map_1.pkl'])\n",
      "dict_keys(['markov_chain_1.pkl', 'markov_chain_35.pkl', 'markov_chain_2.pkl', 'markov_chain_12.pkl', 'markov_chain_30.pkl', 'markov_chain_43.pkl', 'markov_chain_38.pkl', 'markov_chain_16.pkl', 'markov_chain_17.pkl', 'markov_chain_36.pkl', 'markov_chain_26.pkl', 'markov_chain_25.pkl', 'markov_chain_28.pkl', 'markov_chain_24.pkl', 'markov_chain_18.pkl', 'markov_chain_33.pkl', 'markov_chain_39.pkl', 'markov_chain_14.pkl', 'markov_chain_41.pkl', 'markov_chain_27.pkl', 'markov_chain_31.pkl', 'markov_chain_32.pkl', 'markov_chain_3.pkl', 'markov_chain_22.pkl', 'markov_chain_15.pkl', 'markov_chain_9.pkl', 'markov_chain_20.pkl', 'markov_chain_34.pkl', 'markov_chain_0.pkl', 'markov_chain_13.pkl', 'markov_chain_29.pkl', 'markov_chain_23.pkl', 'markov_chain_10.pkl', 'markov_chain_37.pkl', 'markov_chain_21.pkl', 'markov_chain_5.pkl', 'markov_chain_8.pkl', 'markov_chain_7.pkl', 'markov_chain_42.pkl', 'markov_chain_44.pkl', 'markov_chain_11.pkl', 'markov_chain_19.pkl', 'markov_chain_40.pkl', 'markov_chain_6.pkl', 'markov_chain_4.pkl'])\n"
     ]
    }
   ],
   "source": [
    "print(continuous_series_task.keys())\n",
    "print(markov_chain_task.keys())"
   ]
  },
  {
   "cell_type": "markdown",
   "metadata": {},
   "source": [
    "### Analyze Multi Digit series"
   ]
  },
  {
   "cell_type": "code",
   "execution_count": 4,
   "metadata": {},
   "outputs": [
    {
     "name": "stdout",
     "output_type": "stream",
     "text": [
      "Processing  noisy_logistic_map_13.pkl\n",
      "Processing  noisy_logistic_map_14.pkl\n"
     ]
    },
    {
     "name": "stderr",
     "output_type": "stream",
     "text": [
      "/home/admin-quad/LLM/llmICL/models/baseline_models.py:88: RuntimeWarning: invalid value encountered in scalar divide\n",
      "  phi = np.sum(centered_ts[1:] * np.roll(centered_ts, -1)[:-1]) / np.sum(np.roll(centered_ts, -1)[:-1] ** 2)\n"
     ]
    },
    {
     "name": "stdout",
     "output_type": "stream",
     "text": [
      "Processing  noisy_logistic_map_15.pkl\n",
      "Processing  noisy_logistic_map_16.pkl\n",
      "Processing  noisy_logistic_map_17.pkl\n",
      "Processing  noisy_logistic_map_18.pkl\n",
      "Processing  noisy_logistic_map_19.pkl\n",
      "Processing  noisy_logistic_map_20.pkl\n",
      "Processing  noisy_logistic_map_21.pkl\n",
      "Processing  noisy_logistic_map_22.pkl\n"
     ]
    }
   ],
   "source": [
    "for series_name, series_dict in sorted(continuous_series_task.items()):\n",
    "    if series_dict['llama_size'] in ['AR1', 'NAR1']:\n",
    "        print(\"Processing \", series_name)\n",
    "        time_series = series_dict['time_series']\n",
    "        predicted_mean_arr, predicted_sigma_arr = AR1(time_series)\n",
    "        series_dict['predicted_mean_arr'] = predicted_mean_arr\n",
    "        series_dict['predicted_sigma_arr'] = predicted_sigma_arr\n",
    "        save_name = os.path.join(save_path, series_name)\n",
    "        with open(save_name, 'wb') as f:\n",
    "            pickle.dump(series_dict, f)\n",
    "        \n",
    "    if series_dict['llama_size'] in ['13b', '7b', '70b']:\n",
    "        print(\"Processing \", series_name)\n",
    "        full_series = series_dict['full_series']\n",
    "        prec = series_dict['prec']\n",
    "        refine_depth = series_dict['refine_depth']\n",
    "        llama_size = series_dict['llama_size']\n",
    "        mode = series_dict['mode']\n",
    "        PDF_list = calculate_multiPDF(full_series, prec, mode = mode, refine_depth = refine_depth, llama_size = llama_size)\n",
    "        series_dict['PDF_list'] = PDF_list\n",
    "        save_name = os.path.join(save_path, series_name)\n",
    "        with open(save_name, 'wb') as f:\n",
    "            pickle.dump(series_dict, f)\n"
   ]
  },
  {
   "cell_type": "markdown",
   "metadata": {},
   "source": [
    "### Analyze Markov Series"
   ]
  },
  {
   "cell_type": "code",
   "execution_count": 5,
   "metadata": {},
   "outputs": [
    {
     "name": "stdout",
     "output_type": "stream",
     "text": [
      "Processing  markov_chain_36.pkl\n",
      "Processing  markov_chain_37.pkl\n",
      "Processing  markov_chain_38.pkl\n",
      "Processing  markov_chain_39.pkl\n",
      "Processing  markov_chain_40.pkl\n",
      "Processing  markov_chain_41.pkl\n",
      "Processing  markov_chain_42.pkl\n",
      "Processing  markov_chain_43.pkl\n",
      "Processing  markov_chain_44.pkl\n"
     ]
    }
   ],
   "source": [
    "for series_name, series_dict in sorted(markov_chain_task.items()):\n",
    "    print(\"Processing \", series_name)\n",
    "    full_series = series_dict['full_series']\n",
    "    llama_size = series_dict['llama_size']\n",
    "    if llama_size in [\"7b\", \"13b\", \"70b\"]:\n",
    "        logit_mat_good = calculate_Markov(full_series, llama_size = llama_size)    \n",
    "    if llama_size in [\"unigram\"]:\n",
    "        logit_mat_good = calculate_Markov_unigram(full_series) \n",
    "    if llama_size in [\"bigram\"]:\n",
    "        logit_mat_good = calculate_Markov_bigram(full_series)         \n",
    "    series_dict['logit_mat_good'] = logit_mat_good\n",
    "    save_name = os.path.join(save_path, series_name)\n",
    "    with open(save_name, 'wb') as f:\n",
    "        pickle.dump(series_dict, f)\n"
   ]
  },
  {
   "cell_type": "code",
   "execution_count": null,
   "metadata": {},
   "outputs": [],
   "source": []
  }
 ],
 "metadata": {
  "kernelspec": {
   "display_name": "LLM",
   "language": "python",
   "name": "python3"
  },
  "language_info": {
   "codemirror_mode": {
    "name": "ipython",
    "version": 3
   },
   "file_extension": ".py",
   "mimetype": "text/x-python",
   "name": "python",
   "nbconvert_exporter": "python",
   "pygments_lexer": "ipython3",
   "version": "3.11.4"
  }
 },
 "nbformat": 4,
 "nbformat_minor": 2
}
